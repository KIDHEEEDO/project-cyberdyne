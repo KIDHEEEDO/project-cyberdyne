{
 "cells": [
  {
   "cell_type": "code",
   "execution_count": 1,
   "id": "0e7362be",
   "metadata": {},
   "outputs": [],
   "source": [
    "import pandas as pd\n",
    "import numpy as np\n",
    "import matplotlib.pyplot as plt\n",
    "import seaborn as sns\n",
    "from PIL import Image\n",
    "import warnings\n",
    "import os \n",
    "import cv2\n",
    "warnings.filterwarnings(action='ignore')"
   ]
  },
  {
   "cell_type": "code",
   "execution_count": 2,
   "id": "4a662fc1",
   "metadata": {},
   "outputs": [
    {
     "data": {
      "text/plain": [
       "'/home/elice/project-cyberdyne/ai/EDA'"
      ]
     },
     "execution_count": 2,
     "metadata": {},
     "output_type": "execute_result"
    }
   ],
   "source": [
    "os.getcwd()"
   ]
  },
  {
   "cell_type": "markdown",
   "id": "ebb200af",
   "metadata": {},
   "source": [
    "# Validation set check"
   ]
  },
  {
   "cell_type": "code",
   "execution_count": 3,
   "id": "ad889c00",
   "metadata": {},
   "outputs": [
    {
     "name": "stdout",
     "output_type": "stream",
     "text": [
      "/home/elice/dataset/validation-labels-src\n"
     ]
    }
   ],
   "source": [
    "%cd ../../../dataset/validation-labels-src"
   ]
  },
  {
   "cell_type": "code",
   "execution_count": 4,
   "id": "603a5d9c",
   "metadata": {},
   "outputs": [],
   "source": [
    "import json"
   ]
  },
  {
   "cell_type": "code",
   "execution_count": 5,
   "id": "b6390e0b",
   "metadata": {},
   "outputs": [
    {
     "name": "stdout",
     "output_type": "stream",
     "text": [
      "도기류 :  5073 원형 :  4766 변형 : 307 변형율 :  6.05\n",
      "유리병류 :  5304 원형 :  5262 변형 : 42 변형율 :  0.79\n"
     ]
    }
   ],
   "source": [
    "category_condition_G=dict()\n",
    "category_condition_B=dict()\n",
    "st_python=dict()\n",
    "filepath_ceramic=[]\n",
    "filepath_bottle=[]\n",
    "for dirpath, dirnames,filenames in os.walk(os.curdir):\n",
    "\n",
    "    for filename in filenames :\n",
    "        path=os.path.join(dirpath,filename)\n",
    "#         print(path)\n",
    "        with open(path, \"r\") as st_json:\n",
    "\n",
    "            st_python = json.load(st_json)\n",
    "#             print(st_python)\n",
    "            if st_python['Bounding'][0]['DAMAGE'] ==\"원형\" :\n",
    "                category_condition_G[st_python['Bounding'][0]['CLASS']]=category_condition_G.get(st_python['Bounding'][0]['CLASS'],0)+1\n",
    "            else :\n",
    "                category_condition_B[st_python['Bounding'][0]['CLASS']]=category_condition_B.get(st_python['Bounding'][0]['CLASS'],0)+1\n",
    "                if st_python['Bounding'][0]['CLASS'] == \"도기류\" :\n",
    "                    filepath_ceramic.append(dirpath+'/'+st_python['FILE NAME'])\n",
    "                if st_python['Bounding'][0]['CLASS'] == \"유리병류\" :\n",
    "                    filepath_bottle.append(dirpath+'/'+st_python['FILE NAME'])\n",
    "# print(st_python)\n",
    "# print(filepath_ceramic)\n",
    "# print(filepath_bottle)\n",
    "\n",
    "print(\"도기류 : \", category_condition_G['도기류']+category_condition_B['도기류'], '원형 : ',category_condition_G['도기류'],'변형 :', category_condition_B['도기류'], '변형율 : ',round(category_condition_B['도기류']/(category_condition_B['도기류']+category_condition_G['도기류'])*100,2))\n",
    "print(\"유리병류 : \", category_condition_G['유리병류']+category_condition_B['유리병류'], '원형 : ',category_condition_G['유리병류'],'변형 :', category_condition_B['유리병류'], '변형율 : ',round(category_condition_B['유리병류']/(category_condition_B['유리병류']+category_condition_G['유리병류'])*100,2))"
   ]
  },
  {
   "cell_type": "code",
   "execution_count": 6,
   "id": "d8bff7c2",
   "metadata": {},
   "outputs": [
    {
     "name": "stdout",
     "output_type": "stream",
     "text": [
      "/home/elice/dataset/validation\n"
     ]
    }
   ],
   "source": [
    "%cd ../validation"
   ]
  },
  {
   "cell_type": "code",
   "execution_count": null,
   "id": "e44ccf8c",
   "metadata": {},
   "outputs": [],
   "source": [
    "from tqdm import tqdm\n",
    "import random\n",
    "img_arrays=[]\n",
    "\n",
    "for file in tqdm(filepath_ceramic):\n",
    "    img=cv2.imread(file)\n",
    "    img = cv2.resize(img, (64, 64))\n",
    "    img=cv2.cvtColor(img, cv2.COLOR_BGR2RGB)\n",
    "    img_arrays.append(np.array(img))\n",
    "random.seed(1024)\n",
    "img_array=random.sample(img_array, 40)\n",
    "validation_img=np.array(img_arrays)"
   ]
  },
  {
   "cell_type": "code",
   "execution_count": null,
   "id": "f7227895",
   "metadata": {},
   "outputs": [],
   "source": [
    "\n",
    "len(validation_img)\n"
   ]
  },
  {
   "cell_type": "code",
   "execution_count": 8,
   "id": "3b26f3c7",
   "metadata": {},
   "outputs": [
    {
     "ename": "NameError",
     "evalue": "name 'train' is not defined",
     "output_type": "error",
     "traceback": [
      "\u001b[0;31m---------------------------------------------------------------------------\u001b[0m",
      "\u001b[0;31mNameError\u001b[0m                                 Traceback (most recent call last)",
      "Input \u001b[0;32mIn [8]\u001b[0m, in \u001b[0;36m<cell line: 3>\u001b[0;34m()\u001b[0m\n\u001b[1;32m      1\u001b[0m plt\u001b[38;5;241m.\u001b[39mfigure(figsize\u001b[38;5;241m=\u001b[39m(\u001b[38;5;241m12\u001b[39m,\u001b[38;5;241m10\u001b[39m))\n\u001b[1;32m      3\u001b[0m \u001b[38;5;28;01mfor\u001b[39;00m n \u001b[38;5;129;01min\u001b[39;00m \u001b[38;5;28mrange\u001b[39m(\u001b[38;5;241m0\u001b[39m,\u001b[38;5;241m11\u001b[39m):  \n\u001b[0;32m----> 4\u001b[0m     train_idx \u001b[38;5;241m=\u001b[39m \u001b[43mtrain\u001b[49m[train[\u001b[38;5;124m\"\u001b[39m\u001b[38;5;124mlabel\u001b[39m\u001b[38;5;124m\"\u001b[39m] \u001b[38;5;241m==\u001b[39m n]\u001b[38;5;241m.\u001b[39mtail(\u001b[38;5;241m10\u001b[39m)\u001b[38;5;241m.\u001b[39mindex\n\u001b[1;32m      5\u001b[0m     \u001b[38;5;28;01mfor\u001b[39;00m i, m \u001b[38;5;129;01min\u001b[39;00m \u001b[38;5;28menumerate\u001b[39m(train_idx):\n\u001b[1;32m      6\u001b[0m         img \u001b[38;5;241m=\u001b[39m train_img[m]\n",
      "\u001b[0;31mNameError\u001b[0m: name 'train' is not defined"
     ]
    },
    {
     "data": {
      "text/plain": [
       "<Figure size 864x720 with 0 Axes>"
      ]
     },
     "metadata": {},
     "output_type": "display_data"
    }
   ],
   "source": [
    "plt.figure(figsize=(12,10))\n",
    "\n",
    "for n in range(0,11):  \n",
    "    train_idx = train[train[\"label\"] == n].tail(10).index\n",
    "    for i, m in enumerate(train_idx):\n",
    "        img = train_img[m]\n",
    "        plt.subplot(11, 10, (n*10)+(i+1))  #행은 class수 열은 시각화할 개수\n",
    "        plt.imshow(img, cmap=plt.cm.binary)\n",
    "        plt.axis(\"off\")"
   ]
  },
  {
   "cell_type": "code",
   "execution_count": null,
   "id": "cb5c3aa6",
   "metadata": {},
   "outputs": [],
   "source": [
    "%cd ../training-labels-src"
   ]
  },
  {
   "cell_type": "code",
   "execution_count": null,
   "id": "6d8707a9",
   "metadata": {},
   "outputs": [],
   "source": [
    "category_condition_G=dict()\n",
    "category_condition_B=dict()\n",
    "st_python=dict()\n",
    "for dirpath, dirnames,filenames in os.walk(os.curdir):\n",
    "\n",
    "    for filename in filenames :\n",
    "        path=os.path.join(dirpath,filename)\n",
    "#         print(path)\n",
    "        with open(path, \"r\") as st_json:\n",
    "\n",
    "            st_python = json.load(st_json)\n",
    "#             print(st_python)\n",
    "            if st_python['Bounding'][0]['DAMAGE'] ==\"원형\" :\n",
    "                category_condition_G[st_python['Bounding'][0]['CLASS']]=category_condition_G.get(st_python['Bounding'][0]['CLASS'],0)+1\n",
    "            else :\n",
    "                category_condition_B[st_python['Bounding'][0]['CLASS']]=category_condition_B.get(st_python['Bounding'][0]['CLASS'],0)+1\n",
    "# print(st_python)\n",
    "print(\"도기류 : \", category_condition_G['도기류']+category_condition_B['도기류'], '원형 : ',category_condition_G['도기류'],'변형 :', category_condition_B['도기류'], '변형율 : ',round(category_condition_B['도기류']/(category_condition_B['도기류']+category_condition_G['도기류'])*100,2))\n",
    "print(\"유리병류 : \", category_condition_G['유리병류']+category_condition_B['유리병류'], '원형 : ',category_condition_G['유리병류'],'변형 :', category_condition_B['유리병류'], '변형율 : ',round(category_condition_B['유리병류']/(category_condition_B['유리병류']+category_condition_G['유리병류'])*100,2))"
   ]
  },
  {
   "cell_type": "code",
   "execution_count": null,
   "id": "e17b497e",
   "metadata": {},
   "outputs": [],
   "source": []
  },
  {
   "cell_type": "code",
   "execution_count": null,
   "id": "e103ae8f",
   "metadata": {},
   "outputs": [],
   "source": []
  }
 ],
 "metadata": {
  "kernelspec": {
   "display_name": "cyberdyne",
   "language": "python",
   "name": "cyberdyne"
  },
  "language_info": {
   "codemirror_mode": {
    "name": "ipython",
    "version": 3
   },
   "file_extension": ".py",
   "mimetype": "text/x-python",
   "name": "python",
   "nbconvert_exporter": "python",
   "pygments_lexer": "ipython3",
   "version": "3.8.10"
  }
 },
 "nbformat": 4,
 "nbformat_minor": 5
}
