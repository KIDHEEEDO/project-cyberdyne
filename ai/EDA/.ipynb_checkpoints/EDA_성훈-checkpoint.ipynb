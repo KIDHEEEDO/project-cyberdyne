{
 "cells": [
  {
   "cell_type": "code",
   "execution_count": null,
   "id": "b4b9eb88",
   "metadata": {},
   "outputs": [],
   "source": []
  },
  {
   "cell_type": "code",
   "execution_count": 1,
   "id": "6239ce53",
   "metadata": {},
   "outputs": [],
   "source": [
    "import pandas as pd\n",
    "import numpy as np\n",
    "import matplotlib.pyplot as plt\n",
    "import seaborn as sns\n",
    "from PIL import Image\n",
    "import warnings\n",
    "import os \n",
    "warnings.filterwarnings(action='ignore')"
   ]
  },
  {
   "cell_type": "code",
   "execution_count": 2,
   "id": "9ebe4dfc",
   "metadata": {},
   "outputs": [
    {
     "data": {
      "text/plain": [
       "'/home/elice/project-cyberdyne/ai/EDA'"
      ]
     },
     "execution_count": 2,
     "metadata": {},
     "output_type": "execute_result"
    }
   ],
   "source": [
    "os.getcwd()"
   ]
  },
  {
   "cell_type": "code",
   "execution_count": null,
   "id": "4a9dcd78",
   "metadata": {},
   "outputs": [],
   "source": []
  },
  {
   "cell_type": "code",
   "execution_count": 3,
   "id": "ca5675a4",
   "metadata": {},
   "outputs": [
    {
     "name": "stdout",
     "output_type": "stream",
     "text": [
      "/home/elice/dataset/validation-labels-src\n"
     ]
    }
   ],
   "source": [
    "%cd ../../../dataset/validation-labels-src"
   ]
  },
  {
   "cell_type": "code",
   "execution_count": 4,
   "id": "1ec3b9d4",
   "metadata": {
    "scrolled": true
   },
   "outputs": [
    {
     "name": "stdout",
     "output_type": "stream",
     "text": [
      "total 68\r\n",
      "drwx------ 17 elice elice 4096 Jun  9 08:04 \u001b[0m\u001b[01;34m.\u001b[0m/\r\n",
      "drwxrwxr-x  6 elice elice 4096 Jun  9 08:25 \u001b[01;34m..\u001b[0m/\r\n",
      "drwx------ 13 elice elice 4096 Jun  1  2021 \u001b[01;34m가구류\u001b[0m/\r\n",
      "drwx------ 10 elice elice 4096 Jun  1  2021 \u001b[01;34m고철류\u001b[0m/\r\n",
      "drwx------ 10 elice elice 4096 Jun  1  2021 \u001b[01;34m나무\u001b[0m/\r\n",
      "drwx------ 12 elice elice 4096 Jun  1  2021 \u001b[01;34m도기류\u001b[0m/\r\n",
      "drwx------  9 elice elice 4096 Jun  1  2021 \u001b[01;34m비닐\u001b[0m/\r\n",
      "drwx------  6 elice elice 4096 Jun  1  2021 \u001b[01;34m스티로폼\u001b[0m/\r\n",
      "drwx------ 10 elice elice 4096 Jun  1  2021 \u001b[01;34m유리병\u001b[0m/\r\n",
      "drwx------ 10 elice elice 4096 Jun  1  2021 \u001b[01;34m의류\u001b[0m/\r\n",
      "drwx------  5 elice elice 4096 Jun  1  2021 \u001b[01;34m자전거\u001b[0m/\r\n",
      "drwx------ 29 elice elice 4096 Jun  1  2021 \u001b[01;34m전자제품\u001b[0m/\r\n",
      "drwx------ 11 elice elice 4096 Jun  1  2021 \u001b[01;34m종이류\u001b[0m/\r\n",
      "drwx------  8 elice elice 4096 Jun  1  2021 \u001b[01;34m캔류\u001b[0m/\r\n",
      "drwx------  5 elice elice 4096 Jun  1  2021 \u001b[01;34m페트병\u001b[0m/\r\n",
      "drwx------  8 elice elice 4096 Jun  1  2021 \u001b[01;34m플라스틱류\u001b[0m/\r\n",
      "drwx------  8 elice elice 4096 Jun  1  2021 \u001b[01;34m형광등\u001b[0m/\r\n"
     ]
    }
   ],
   "source": [
    "ls -al"
   ]
  },
  {
   "cell_type": "code",
   "execution_count": 5,
   "id": "f9c1c2b4",
   "metadata": {},
   "outputs": [],
   "source": [
    "category=dict()\n",
    "for dirpath, dirnames,filenames in os.walk(os.curdir):\n",
    "\n",
    "    for filename in filenames :\n",
    "        #print(os.path.join(dirpath,filename))\n",
    "        #print(dirpath.split('/'))\n",
    "        cate=dirpath.split('/')\n",
    "        category[cate[2]]=category.get(cate[2],0)+1\n",
    "        "
   ]
  },
  {
   "cell_type": "code",
   "execution_count": 6,
   "id": "3763c6fe",
   "metadata": {},
   "outputs": [
    {
     "name": "stdout",
     "output_type": "stream",
     "text": [
      "{'외투': 632, '상의': 2698, '하의': 1526, '합성섬유': 10, '원피스': 150, '면의류': 15, '기타의류': 25, '레깅스': 95, '두발자전거': 4527, '세발자전거': 70, '네발자전거': 457, '종이봉투': 145, '신문지': 15, '포장상자': 2008, '책자': 1945, '음료수곽': 382, '상자류': 431, '노트': 30, '기타': 1270, '신발상자': 50, '스팸류': 200, '통조림캔': 405, '맥주캔': 865, '커피캔': 645, '참기름캔': 30, '음료수캔': 2875, '봉투': 265, '포장제': 3248, '일회용덮개': 55, '리필용기': 70, '에어캡': 170, '과자봉지': 1350, '장식품': 485, '그릇류': 2405, '항아리': 220, '화분': 1235, '받침': 135, '컵': 735, '병': 30, '뚝배기': 180, '주전자': 90, '철옷걸이': 272, '비철금속': 810, '프라이팬': 667, '골프채': 700, '전기프라이팬': 25, '고철': 2375, '스티로폼': 1682, '포장용기': 605, '보호재': 675, '네모트레이': 2085, '페트병': 4620, '일회용음료수잔': 380, '프린터': 275, '에어컨': 25, '냉장고': 155, '청소기': 375, '전자레인지': 70, '전기밥솥': 340, '전기다리미': 115, '믹서': 115, '비디오플레이어': 100, '팩시밀리': 20, '전기히터': 125, '오디오': 170, '음식물처리기': 10, '가습기': 70, '공기청정기': 55, '식기건조기': 15, '컴퓨터': 315, 'TV': 207, '이동전화단말기': 1245, '연수기': 10, '전기오븐': 155, '하이패스': 5, '전기정수기': 40, '선풍기': 340, '세탁기': 60, '복사기': 40, '콤팩트형': 2285, '백열전구': 725, 'LED전구': 335, '직관형': 805, '안정기내장형': 725, '환형': 165, '욕실용품': 370, '대용량플라스틱통': 300, '밀폐용기': 3250, '장남감': 780, '바구니': 210, '기타술병': 725, '음료수병': 842, '맥주병': 220, '주방용기': 851, '소주병': 455, '박카스병': 2052, '물병': 20, '협탁': 130, '소파': 202, '화장대': 30, '장롱': 75, '의자': 2169, '수납장': 792, '침대': 15, '밥상': 835, '서랍장': 637, '책상': 220, '싱크대': 5, '포장재': 160, '주방용품': 2955, '액자': 330, '나무행거': 50, '주걱': 840, '도마': 295}\n"
     ]
    }
   ],
   "source": [
    "print(category)"
   ]
  },
  {
   "cell_type": "code",
   "execution_count": 7,
   "id": "77c097ad",
   "metadata": {},
   "outputs": [],
   "source": [
    "from operator import itemgetter"
   ]
  },
  {
   "cell_type": "code",
   "execution_count": 8,
   "id": "45c90e3c",
   "metadata": {},
   "outputs": [
    {
     "name": "stdout",
     "output_type": "stream",
     "text": [
      "{'하이패스': 5, '싱크대': 5, '합성섬유': 10, '음식물처리기': 10, '연수기': 10, '면의류': 15, '신문지': 15, '식기건조기': 15, '침대': 15, '팩시밀리': 20, '물병': 20, '기타의류': 25, '전기프라이팬': 25, '에어컨': 25, '노트': 30, '참기름캔': 30, '병': 30, '화장대': 30, '전기정수기': 40, '복사기': 40, '신발상자': 50, '나무행거': 50, '일회용덮개': 55, '공기청정기': 55, '세탁기': 60, '세발자전거': 70, '리필용기': 70, '전자레인지': 70, '가습기': 70, '장롱': 75, '주전자': 90, '레깅스': 95, '비디오플레이어': 100, '전기다리미': 115, '믹서': 115, '전기히터': 125, '협탁': 130, '받침': 135, '종이봉투': 145, '원피스': 150, '냉장고': 155, '전기오븐': 155, '포장재': 160, '환형': 165, '에어캡': 170, '오디오': 170, '뚝배기': 180, '스팸류': 200, '소파': 202, 'TV': 207, '바구니': 210, '항아리': 220, '맥주병': 220, '책상': 220, '봉투': 265, '철옷걸이': 272, '프린터': 275, '도마': 295, '대용량플라스틱통': 300, '컴퓨터': 315, '액자': 330, 'LED전구': 335, '전기밥솥': 340, '선풍기': 340, '욕실용품': 370, '청소기': 375, '일회용음료수잔': 380, '음료수곽': 382, '통조림캔': 405, '상자류': 431, '소주병': 455, '네발자전거': 457, '장식품': 485, '포장용기': 605, '외투': 632, '서랍장': 637, '커피캔': 645, '프라이팬': 667, '보호재': 675, '골프채': 700, '백열전구': 725, '안정기내장형': 725, '기타술병': 725, '컵': 735, '장남감': 780, '수납장': 792, '직관형': 805, '비철금속': 810, '밥상': 835, '주걱': 840, '음료수병': 842, '주방용기': 851, '맥주캔': 865, '화분': 1235, '이동전화단말기': 1245, '기타': 1270, '과자봉지': 1350, '하의': 1526, '스티로폼': 1682, '책자': 1945, '포장상자': 2008, '박카스병': 2052, '네모트레이': 2085, '의자': 2169, '콤팩트형': 2285, '고철': 2375, '그릇류': 2405, '상의': 2698, '음료수캔': 2875, '주방용품': 2955, '포장제': 3248, '밀폐용기': 3250, '두발자전거': 4527, '페트병': 4620}\n"
     ]
    }
   ],
   "source": [
    "sorted_category=dict(sorted(category.items(),key=itemgetter(1)))\n",
    "print(sorted_category)\n"
   ]
  },
  {
   "cell_type": "code",
   "execution_count": 9,
   "id": "c13106aa",
   "metadata": {},
   "outputs": [
    {
     "name": "stdout",
     "output_type": "stream",
     "text": [
      "           0\n",
      "하이패스       5\n",
      "싱크대        5\n",
      "합성섬유      10\n",
      "음식물처리기    10\n",
      "연수기       10\n",
      "...      ...\n",
      "주방용품    2955\n",
      "포장제     3248\n",
      "밀폐용기    3250\n",
      "두발자전거   4527\n",
      "페트병     4620\n",
      "\n",
      "[114 rows x 1 columns]\n"
     ]
    }
   ],
   "source": [
    "cate_=pd.DataFrame.from_dict(sorted_category, orient='index')\n",
    "print(cate_)"
   ]
  },
  {
   "cell_type": "code",
   "execution_count": 20,
   "id": "2ea8826c",
   "metadata": {},
   "outputs": [
    {
     "data": {
      "text/plain": [
       "<AxesSubplot:xlabel='0'>"
      ]
     },
     "execution_count": 20,
     "metadata": {},
     "output_type": "execute_result"
    },
    {
     "data": {
      "image/png": "[encoded data removed]",
      "text/plain": [
       "<Figure size 1440x720 with 1 Axes>"
      ]
     },
     "metadata": {},
     "output_type": "display_data"
    }
   ],
   "source": [
    "plt.figure(figsize=(20,10))\n",
    "sns.set_style('darkgrid')\n",
    "sns.barplot(cate_[0])"
   ]
  },
  {
   "cell_type": "code",
   "execution_count": null,
   "id": "8e8a8a1b",
   "metadata": {},
   "outputs": [],
   "source": []
  }
 ],
 "metadata": {
  "kernelspec": {
   "display_name": "cyberdyne",
   "language": "python",
   "name": "cyberdyne"
  },
  "language_info": {
   "codemirror_mode": {
    "name": "ipython",
    "version": 3
   },
   "file_extension": ".py",
   "mimetype": "text/x-python",
   "name": "python",
   "nbconvert_exporter": "python",
   "pygments_lexer": "ipython3",
   "version": "3.8.10"
  }
 },
 "nbformat": 4,
 "nbformat_minor": 5
}
