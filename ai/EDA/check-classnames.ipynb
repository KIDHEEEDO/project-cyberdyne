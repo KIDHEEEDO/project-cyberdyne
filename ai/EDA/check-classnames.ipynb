{
 "cells": [
  {
   "cell_type": "markdown",
   "metadata": {},
   "source": [
    "# 클래스 이름 전체 확인하기\n",
    "\n",
    "클래스 대분류를 확인합니다.\n",
    "\n",
    "예를 들어, 어떤 것은 '가구류'로 되어있고 어떤 것은 '가구'로 되어 있으면 곤란합니다.\n",
    "\n",
    "train/val 두 셋에 모두 적용해야 합니다.\n"
   ]
  },
  {
   "cell_type": "code",
   "execution_count": 2,
   "metadata": {},
   "outputs": [],
   "source": [
    "from collections import Counter\n",
    "from os import path\n",
    "\n",
    "import json\n"
   ]
  },
  {
   "cell_type": "code",
   "execution_count": 5,
   "metadata": {},
   "outputs": [],
   "source": [
    "def count_classnames(top: str) -> Counter:\n",
    "    counter = Counter()\n",
    "\n",
    "    for stem, branches, leaves in os.walk(top):\n",
    "        for leaf in leaves:\n",
    "            if path.splitext(leaf)[1].lower() != '.json':\n",
    "                continue\n",
    "\n",
    "            with open(leaf, 'r', encoding='utf-8') as json_in:\n",
    "                label = json.load(json_in)\n",
    "                n_boxes = int(label['BoundingCount'])\n",
    "                for box_n in range(n_boxes):\n",
    "                    counter[label['Bounding'][box_n]['CLASS']] += 1\n",
    "\n",
    "    return counter"
   ]
  }
 ],
 "metadata": {
  "kernelspec": {
   "display_name": "cyberdyne",
   "language": "python",
   "name": "cyberdyne"
  },
  "language_info": {
   "codemirror_mode": {
    "name": "ipython",
    "version": 3
   },
   "file_extension": ".py",
   "mimetype": "text/x-python",
   "name": "python",
   "nbconvert_exporter": "python",
   "pygments_lexer": "ipython3",
   "version": "3.8.10"
  },
  "orig_nbformat": 4
 },
 "nbformat": 4,
 "nbformat_minor": 2
}
