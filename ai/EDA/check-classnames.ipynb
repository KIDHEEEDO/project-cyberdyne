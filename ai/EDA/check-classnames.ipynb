{
 "cells": [
  {
   "cell_type": "markdown",
   "metadata": {},
   "source": [
    "# 클래스 이름 전체 확인하기\n",
    "\n",
    "클래스 대분류를 확인합니다.\n",
    "\n",
    "예를 들어, 어떤 것은 '가구류'로 되어있고 어떤 것은 '가구'로 되어 있으면 곤란합니다.\n",
    "\n",
    "train/val 두 셋에 모두 적용해야 합니다.\n"
   ]
  },
  {
   "cell_type": "code",
   "execution_count": 9,
   "metadata": {},
   "outputs": [],
   "source": [
    "from collections import Counter\n",
    "from os import path\n",
    "from pprint import pprint\n",
    "\n",
    "import json\n"
   ]
  },
  {
   "cell_type": "code",
   "execution_count": 7,
   "metadata": {},
   "outputs": [],
   "source": [
    "def count_classnames(top: str) -> Counter:\n",
    "    counter = Counter()\n",
    "\n",
    "    for stem, branches, leaves in os.walk(top):\n",
    "        for leaf in leaves:\n",
    "            if path.splitext(leaf)[1].lower() != '.json':\n",
    "                continue\n",
    "\n",
    "            with open(path.join(stem, leaf), 'r', encoding='utf-8') as json_in:\n",
    "                label = json.load(json_in)\n",
    "                n_boxes = int(label['BoundingCount'])\n",
    "                for box_n in range(n_boxes):\n",
    "                    counter[label['Bounding'][box_n]['CLASS']] += 1\n",
    "\n",
    "    return counter"
   ]
  },
  {
   "cell_type": "code",
   "execution_count": 8,
   "metadata": {},
   "outputs": [],
   "source": [
    "train_counter = count_classnames('./dataset/training-labels-src')\n",
    "val_counter = count_classnames('./dataset/validation-labels-src')"
   ]
  },
  {
   "cell_type": "code",
   "execution_count": 10,
   "metadata": {},
   "outputs": [
    {
     "name": "stdout",
     "output_type": "stream",
     "text": [
      "Counter({'나무류': 61582,\n",
      "         '플라스틱류': 57529,\n",
      "         '스티로폼류': 50985,\n",
      "         '고철류': 45146,\n",
      "         '형광등': 44958,\n",
      "         '의류': 44273,\n",
      "         '도기류': 43821,\n",
      "         '가구류': 43471,\n",
      "         '자전거': 42929,\n",
      "         '유리병류': 42657,\n",
      "         '종이류': 42411,\n",
      "         '전자제품': 41533,\n",
      "         '비닐류': 41443,\n",
      "         '페트병류': 40895,\n",
      "         '캔류': 40675})\n"
     ]
    }
   ],
   "source": [
    "pprint(train_counter)"
   ]
  },
  {
   "cell_type": "code",
   "execution_count": 11,
   "metadata": {},
   "outputs": [
    {
     "name": "stdout",
     "output_type": "stream",
     "text": [
      "Counter({'나무류': 7685,\n",
      "         '플라스틱류': 7285,\n",
      "         '스티로폼류': 6375,\n",
      "         '고철류': 5778,\n",
      "         '의류': 5592,\n",
      "         '형광등': 5573,\n",
      "         '도기류': 5512,\n",
      "         '가구류': 5421,\n",
      "         '종이류': 5347,\n",
      "         '유리병류': 5342,\n",
      "         '자전거': 5328,\n",
      "         '비닐류': 5177,\n",
      "         '전자제품': 5166,\n",
      "         '페트병류': 5133,\n",
      "         '캔류': 5075})\n"
     ]
    }
   ],
   "source": [
    "pprint(val_counter)"
   ]
  },
  {
   "cell_type": "markdown",
   "metadata": {},
   "source": [
    "## 결과\n",
    "\n",
    "### train\n",
    "\n",
    "```py\n",
    "Counter({'나무류': 61582,\n",
    "         '플라스틱류': 57529,\n",
    "         '스티로폼류': 50985,\n",
    "         '고철류': 45146,\n",
    "         '형광등': 44958,\n",
    "         '의류': 44273,\n",
    "         '도기류': 43821,\n",
    "         '가구류': 43471,\n",
    "         '자전거': 42929,\n",
    "         '유리병류': 42657,\n",
    "         '종이류': 42411,\n",
    "         '전자제품': 41533,\n",
    "         '비닐류': 41443,\n",
    "         '페트병류': 40895,\n",
    "         '캔류': 40675})\n",
    "```\n",
    "\n",
    "### val\n",
    "\n",
    "```py\n",
    "Counter({'나무류': 7685,\n",
    "         '플라스틱류': 7285,\n",
    "         '스티로폼류': 6375,\n",
    "         '고철류': 5778,\n",
    "         '의류': 5592,\n",
    "         '형광등': 5573,\n",
    "         '도기류': 5512,\n",
    "         '가구류': 5421,\n",
    "         '종이류': 5347,\n",
    "         '유리병류': 5342,\n",
    "         '자전거': 5328,\n",
    "         '비닐류': 5177,\n",
    "         '전자제품': 5166,\n",
    "         '페트병류': 5133,\n",
    "         '캔류': 5075})\n",
    "```\n"
   ]
  }
 ],
 "metadata": {
  "kernelspec": {
   "display_name": "cyberdyne",
   "language": "python",
   "name": "cyberdyne"
  },
  "language_info": {
   "codemirror_mode": {
    "name": "ipython",
    "version": 3
   },
   "file_extension": ".py",
   "mimetype": "text/x-python",
   "name": "python",
   "nbconvert_exporter": "python",
   "pygments_lexer": "ipython3",
   "version": "3.8.10"
  },
  "orig_nbformat": 4
 },
 "nbformat": 4,
 "nbformat_minor": 2
}
