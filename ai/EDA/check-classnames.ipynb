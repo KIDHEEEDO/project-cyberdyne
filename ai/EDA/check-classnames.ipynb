{
 "cells": [
  {
   "cell_type": "markdown",
   "metadata": {},
   "source": [
    "# 클래스 이름 전체 확인하기\n",
    "\n",
    "클래스 대분류를 확인합니다.\n",
    "\n",
    "예를 들어, 어떤 것은 '가구류'로 되어있고 어떤 것은 '가구'로 되어 있으면 곤란합니다.\n",
    "\n",
    "train/val 두 셋에 모두 적용해야 합니다.\n"
   ]
  },
  {
   "cell_type": "code",
   "execution_count": 2,
   "metadata": {},
   "outputs": [],
   "source": [
    "from collections import Counter\n",
    "from os import path\n",
    "\n",
    "import json\n"
   ]
  },
  {
   "cell_type": "code",
   "execution_count": 7,
   "metadata": {},
   "outputs": [],
   "source": [
    "def count_classnames(top: str) -> Counter:\n",
    "    counter = Counter()\n",
    "\n",
    "    for stem, branches, leaves in os.walk(top):\n",
    "        for leaf in leaves:\n",
    "            if path.splitext(leaf)[1].lower() != '.json':\n",
    "                continue\n",
    "\n",
    "            with open(path.join(stem, leaf), 'r', encoding='utf-8') as json_in:\n",
    "                label = json.load(json_in)\n",
    "                n_boxes = int(label['BoundingCount'])\n",
    "                for box_n in range(n_boxes):\n",
    "                    counter[label['Bounding'][box_n]['CLASS']] += 1\n",
    "\n",
    "    return counter"
   ]
  },
  {
   "cell_type": "code",
   "execution_count": 6,
   "metadata": {},
   "outputs": [
    {
     "ename": "FileNotFoundError",
     "evalue": "[Errno 2] No such file or directory: '18_X002_C704_1217_3.Json'",
     "output_type": "error",
     "traceback": [
      "\u001b[0;31m---------------------------------------------------------------------------\u001b[0m",
      "\u001b[0;31mFileNotFoundError\u001b[0m                         Traceback (most recent call last)",
      "\u001b[1;32md:\\movomo\\Documents\\project-cyberdyne\\ai\\EDA\\check-classnames.ipynb Cell 4'\u001b[0m in \u001b[0;36m<cell line: 1>\u001b[0;34m()\u001b[0m\n\u001b[0;32m----> <a href='vscode-notebook-cell:/d%3A/movomo/Documents/project-cyberdyne/ai/EDA/check-classnames.ipynb#ch0000004?line=0'>1</a>\u001b[0m train_counter \u001b[39m=\u001b[39m count_classnames(\u001b[39m'\u001b[39;49m\u001b[39m./dataset/training-labels-src\u001b[39;49m\u001b[39m'\u001b[39;49m)\n\u001b[1;32m      <a href='vscode-notebook-cell:/d%3A/movomo/Documents/project-cyberdyne/ai/EDA/check-classnames.ipynb#ch0000004?line=1'>2</a>\u001b[0m val_counter \u001b[39m=\u001b[39m count_classnames(\u001b[39m'\u001b[39m\u001b[39m./dataset/validation-labels-src\u001b[39m\u001b[39m'\u001b[39m)\n",
      "\u001b[1;32md:\\movomo\\Documents\\project-cyberdyne\\ai\\EDA\\check-classnames.ipynb Cell 3'\u001b[0m in \u001b[0;36mcount_classnames\u001b[0;34m(top)\u001b[0m\n\u001b[1;32m      <a href='vscode-notebook-cell:/d%3A/movomo/Documents/project-cyberdyne/ai/EDA/check-classnames.ipynb#ch0000003?line=5'>6</a>\u001b[0m \u001b[39mif\u001b[39;00m path\u001b[39m.\u001b[39msplitext(leaf)[\u001b[39m1\u001b[39m]\u001b[39m.\u001b[39mlower() \u001b[39m!=\u001b[39m \u001b[39m'\u001b[39m\u001b[39m.json\u001b[39m\u001b[39m'\u001b[39m:\n\u001b[1;32m      <a href='vscode-notebook-cell:/d%3A/movomo/Documents/project-cyberdyne/ai/EDA/check-classnames.ipynb#ch0000003?line=6'>7</a>\u001b[0m     \u001b[39mcontinue\u001b[39;00m\n\u001b[0;32m----> <a href='vscode-notebook-cell:/d%3A/movomo/Documents/project-cyberdyne/ai/EDA/check-classnames.ipynb#ch0000003?line=8'>9</a>\u001b[0m \u001b[39mwith\u001b[39;00m \u001b[39mopen\u001b[39;49m(leaf, \u001b[39m'\u001b[39;49m\u001b[39mr\u001b[39;49m\u001b[39m'\u001b[39;49m, encoding\u001b[39m=\u001b[39;49m\u001b[39m'\u001b[39;49m\u001b[39mutf-8\u001b[39;49m\u001b[39m'\u001b[39;49m) \u001b[39mas\u001b[39;00m json_in:\n\u001b[1;32m     <a href='vscode-notebook-cell:/d%3A/movomo/Documents/project-cyberdyne/ai/EDA/check-classnames.ipynb#ch0000003?line=9'>10</a>\u001b[0m     label \u001b[39m=\u001b[39m json\u001b[39m.\u001b[39mload(json_in)\n\u001b[1;32m     <a href='vscode-notebook-cell:/d%3A/movomo/Documents/project-cyberdyne/ai/EDA/check-classnames.ipynb#ch0000003?line=10'>11</a>\u001b[0m     n_boxes \u001b[39m=\u001b[39m \u001b[39mint\u001b[39m(label[\u001b[39m'\u001b[39m\u001b[39mBoundingCount\u001b[39m\u001b[39m'\u001b[39m])\n",
      "\u001b[0;31mFileNotFoundError\u001b[0m: [Errno 2] No such file or directory: '18_X002_C704_1217_3.Json'"
     ]
    }
   ],
   "source": [
    "train_counter = count_classnames('./dataset/training-labels-src')\n",
    "val_counter = count_classnames('./dataset/validation-labels-src')"
   ]
  }
 ],
 "metadata": {
  "kernelspec": {
   "display_name": "cyberdyne",
   "language": "python",
   "name": "cyberdyne"
  },
  "language_info": {
   "codemirror_mode": {
    "name": "ipython",
    "version": 3
   },
   "file_extension": ".py",
   "mimetype": "text/x-python",
   "name": "python",
   "nbconvert_exporter": "python",
   "pygments_lexer": "ipython3",
   "version": "3.8.10"
  },
  "orig_nbformat": 4
 },
 "nbformat": 4,
 "nbformat_minor": 2
}
