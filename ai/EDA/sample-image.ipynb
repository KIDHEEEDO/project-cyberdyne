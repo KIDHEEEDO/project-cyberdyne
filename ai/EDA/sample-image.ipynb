{
 "cells": [
  {
   "cell_type": "markdown",
   "metadata": {},
   "source": [
    "## 이미지를 무작위로 뽑아서 확인해 보겠습니다.\n"
   ]
  },
  {
   "cell_type": "code",
   "execution_count": 2,
   "metadata": {},
   "outputs": [],
   "source": [
    "import json\n",
    "from os import path\n",
    "import os\n",
    "import random\n",
    "\n",
    "from PIL import Image, ImageShow"
   ]
  },
  {
   "cell_type": "markdown",
   "metadata": {},
   "source": [
    "`json` 애노테이션을 읽어서 이미지 경로와 일치 여부를 먼저 확인하겠습니다.\n"
   ]
  },
  {
   "cell_type": "markdown",
   "metadata": {},
   "source": [
    "그전에 일단 경로 확인\n"
   ]
  },
  {
   "cell_type": "code",
   "execution_count": 4,
   "metadata": {},
   "outputs": [
    {
     "name": "stdout",
     "output_type": "stream",
     "text": [
      "/home/elice/project-cyberdyne/ai\n",
      "['validation-labels-src', 'training-labels-src', 'training', 'NanumGothic.ttf', 'validation']\n"
     ]
    }
   ],
   "source": [
    "print(os.getcwd())\n",
    "print(os.listdir('dataset'))"
   ]
  },
  {
   "cell_type": "markdown",
   "metadata": {},
   "source": [
    "라벨을 읽어서 매치되는 이미지가 없으면 표시합니다.\n"
   ]
  },
  {
   "cell_type": "markdown",
   "metadata": {},
   "source": [
    "`*_images` 형식은 아래와 같이 할 계획입니다.\n",
    "\n",
    "```py\n",
    "box = List[x1, y1, x2, y2]\n",
    "List[tuple[pathname, List[box]]]\n",
    "```\n"
   ]
  },
  {
   "cell_type": "code",
   "execution_count": null,
   "metadata": {},
   "outputs": [],
   "source": [
    "train_images = []\n",
    "val_images = []\n",
    "\n",
    "for stem, branches, leaves in os.walk('./dataset/training-labels-src'):\n",
    "    for leaf in leaves:\n",
    "        if path.splitext(leaf)[1].lower() == '.json':\n",
    "            json_in = open(path.join(stem, leaf), 'r', encoding='utf-8')\n",
    "            label = json.load()"
   ]
  }
 ],
 "metadata": {
  "kernelspec": {
   "display_name": "cyberdyne",
   "language": "python",
   "name": "cyberdyne"
  },
  "language_info": {
   "codemirror_mode": {
    "name": "ipython",
    "version": 3
   },
   "file_extension": ".py",
   "mimetype": "text/x-python",
   "name": "python",
   "nbconvert_exporter": "python",
   "pygments_lexer": "ipython3",
   "version": "3.8.10"
  },
  "orig_nbformat": 4
 },
 "nbformat": 4,
 "nbformat_minor": 2
}
