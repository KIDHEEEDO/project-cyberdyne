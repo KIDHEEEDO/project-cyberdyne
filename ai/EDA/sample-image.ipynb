{
 "cells": [
  {
   "cell_type": "markdown",
   "metadata": {},
   "source": [
    "## 이미지를 무작위로 뽑아서 확인해 보겠습니다.\n"
   ]
  },
  {
   "cell_type": "code",
   "execution_count": 31,
   "metadata": {},
   "outputs": [],
   "source": [
    "from collections import namedtuple\n",
    "import json\n",
    "from os import path\n",
    "import os\n",
    "import random\n",
    "from typing import (\n",
    "    Any, List, Set, Tuple, Callable, Iterable, Mapping, NewType\n",
    ")\n",
    "\n",
    "from PIL import Image, ImageShow"
   ]
  },
  {
   "cell_type": "markdown",
   "metadata": {},
   "source": [
    "`json` 애노테이션을 읽어서 이미지 경로와 일치 여부를 먼저 확인하겠습니다.\n"
   ]
  },
  {
   "cell_type": "markdown",
   "metadata": {},
   "source": [
    "그전에 일단 경로 확인\n"
   ]
  },
  {
   "cell_type": "code",
   "execution_count": 4,
   "metadata": {},
   "outputs": [
    {
     "name": "stdout",
     "output_type": "stream",
     "text": [
      "/home/elice/project-cyberdyne/ai\n",
      "['validation-labels-src', 'training-labels-src', 'training', 'NanumGothic.ttf', 'validation']\n"
     ]
    }
   ],
   "source": [
    "print(os.getcwd())\n",
    "print(os.listdir('dataset'))"
   ]
  },
  {
   "cell_type": "markdown",
   "metadata": {},
   "source": [
    "라벨을 읽어서 매치되는 이미지가 없으면 표시합니다.\n"
   ]
  },
  {
   "cell_type": "markdown",
   "metadata": {},
   "source": [
    "`*_images` 형식은 아래와 같이 할 계획입니다.\n",
    "\n",
    "```py\n",
    "box = tuple[tuple[int, int], tuple[int, int]]\n",
    "List[tuple[pathname, List[box]]]\n",
    "```\n"
   ]
  },
  {
   "cell_type": "markdown",
   "metadata": {},
   "source": [
    "가끔 폴리곤이란 녀석들이 있어서 변환 함수가 필요합니다.\n"
   ]
  },
  {
   "cell_type": "code",
   "execution_count": 10,
   "metadata": {},
   "outputs": [],
   "source": [
    "Box = NewType('Box', Tuple[Tuple[int, int], Tuple[int, int]])\n",
    "\n",
    "def polygon_to_box(verts: Iterable[Mapping[str, str]]) -> Box:\n",
    "    '''``POLYGON`` 타입 드로잉을 ``BOX`` 형식으로 변환해 반환합니다.'''\n",
    "    as_nums = [\n",
    "        tuple(map(int, list(vert.values())[0].split(','))) for vert in verts\n",
    "    ]\n",
    "    box = (\n",
    "        (min(x for x, y in as_nums), min(y for x, y in as_nums)),\n",
    "        (max(x for x, y in as_nums), max(y for x, y in as_nums)),\n",
    "    )\n",
    "    return box\n"
   ]
  },
  {
   "cell_type": "code",
   "execution_count": 28,
   "metadata": {},
   "outputs": [],
   "source": [
    "ImageInfo = namedtuple('ImageInfo', ['path', 'boxes'])\n",
    "\n",
    "def get_imageinfo(top: str) -> List[ImageInfo]:\n",
    "    images = []\n",
    "\n",
    "    for stem, branches, leaves in os.walk(top):\n",
    "        for leaf in leaves:\n",
    "            if path.splitext(leaf)[1].lower() == '.json':\n",
    "                pathname = path.join(stem, leaf)\n",
    "                json_in = open(pathname, 'r', encoding='utf-8')\n",
    "                label = json.load(json_in)\n",
    "\n",
    "                # 이미지 상대 경로를 구합니다.\n",
    "                prefix = path.dirname(path.relpath(pathname, top))\n",
    "                image_path = path.join(prefix, label['FILE NAME'])\n",
    "\n",
    "                # 박스 리스트를 만듭니다.\n",
    "                boxes = []\n",
    "                for box_n in range(int(label['BoundingCount'])):\n",
    "                    boxinfo = label['Bounding'][box_n]\n",
    "                    if boxinfo['Drawing'] == 'POLYGON':\n",
    "                        box = polygon_to_box(boxinfo['PolygonPoint'])\n",
    "                    else:\n",
    "                        box = map(\n",
    "                            int, \n",
    "                            (\n",
    "                                boxinfo['x1'],\n",
    "                                boxinfo['y1'],\n",
    "                                boxinfo['x2'],\n",
    "                                boxinfo['y2'],\n",
    "                            )\n",
    "                        )\n",
    "                    boxes.append(box)\n",
    "\n",
    "                images.append(ImageInfo(image_path, boxes))\n",
    "\n",
    "    return images"
   ]
  },
  {
   "cell_type": "code",
   "execution_count": 29,
   "metadata": {},
   "outputs": [],
   "source": [
    "train_images = get_imageinfo('./dataset/training-labels-src')\n",
    "val_images = get_imageinfo('./dataset/validation-labels-src')"
   ]
  },
  {
   "cell_type": "markdown",
   "metadata": {},
   "source": [
    "이미지가 실제로 있는지 확인해 보겠습니다. 하나는 이미 알고 있습니다.\n"
   ]
  },
  {
   "cell_type": "code",
   "execution_count": 33,
   "metadata": {},
   "outputs": [],
   "source": [
    "train_images_missing = set()\n",
    "for imageinfo in train_images:\n",
    "    pathname = path.join('./dataset/training', imageinfo.path)\n",
    "    if not path.exists(pathname):\n",
    "        # print(pathname)\n",
    "        train_images_missing.add(imageinfo.path)\n",
    "\n",
    "val_images_missing = set()\n",
    "for imageinfo in val_images:\n",
    "    pathname = path.join('./dataset/validation', imageinfo.path)\n",
    "    if not path.exists(pathname):\n",
    "        # print(pathname)\n",
    "        val_images_missing.add(imageinfo.path)\n"
   ]
  },
  {
   "cell_type": "code",
   "execution_count": 34,
   "metadata": {},
   "outputs": [
    {
     "name": "stdout",
     "output_type": "stream",
     "text": [
      "1\n",
      "0\n"
     ]
    }
   ],
   "source": [
    "print(len(train_images_missing))\n",
    "print(len(val_images_missing))\n"
   ]
  },
  {
   "cell_type": "code",
   "execution_count": 35,
   "metadata": {},
   "outputs": [
    {
     "name": "stdout",
     "output_type": "stream",
     "text": [
      "{'캔류/맥주캔/22_X006_C013_1015/22_X006_C013_1015_0.jpg'}\n",
      "set()\n"
     ]
    }
   ],
   "source": [
    "print(train_images_missing)\n",
    "print(val_images_missing)"
   ]
  },
  {
   "cell_type": "markdown",
   "metadata": {},
   "source": [
    "### ~~빠진 파일들~~\n",
    "\n",
    "~~라벨 -> 이미지 순으로 매치했을 때 빠진 파일이 엄청나게 많다는 것을 알았습니다.~~\n",
    "\n",
    "~~빠진 파일은 training 에서 27000개, validation 에서 14000 개 가량입니다.~~\n",
    "\n",
    "- ~~training: 의류/외투, 상의, 하의~~\n",
    "- ~~validation: 유리병, 가구류, 나무 (하위는 다양)~~\n",
    "\n",
    "수정: *상대경로 계산을 잘못해서 그랬던 것 같습니다.*\n",
    "\n",
    "이미지 -> 라벨 순으로 매치하면 어떤 파일이 빠지는지도 봐야 할 것 같습니다.\n",
    "\n",
    "혹시 이미지 파일 이름이 그냥 단순하게 틀린 것도 있을지 모릅니다.\n"
   ]
  },
  {
   "cell_type": "code",
   "execution_count": 32,
   "metadata": {},
   "outputs": [],
   "source": [
    "def get_missing_json(top: str) -> Set[str]:\n",
    "    result = set()\n",
    "    for stem, branches, leaves in os.walk(top):\n",
    "        for leaf in leaves:\n",
    "            result.add(path.join(stem, leaf))\n",
    "\n",
    "    return result\n"
   ]
  }
 ],
 "metadata": {
  "kernelspec": {
   "display_name": "cyberdyne",
   "language": "python",
   "name": "cyberdyne"
  },
  "language_info": {
   "codemirror_mode": {
    "name": "ipython",
    "version": 3
   },
   "file_extension": ".py",
   "mimetype": "text/x-python",
   "name": "python",
   "nbconvert_exporter": "python",
   "pygments_lexer": "ipython3",
   "version": "3.8.10"
  },
  "orig_nbformat": 4
 },
 "nbformat": 4,
 "nbformat_minor": 2
}
