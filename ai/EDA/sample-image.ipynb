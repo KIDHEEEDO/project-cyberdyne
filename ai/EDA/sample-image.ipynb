{
 "cells": [
  {
   "cell_type": "markdown",
   "metadata": {},
   "source": [
    "# 이미지를 무작위로 뽑아서 확인해 보겠습니다.\n"
   ]
  },
  {
   "cell_type": "code",
   "execution_count": 53,
   "metadata": {},
   "outputs": [],
   "source": [
    "from collections import namedtuple\n",
    "import json\n",
    "from os import path\n",
    "import os\n",
    "import random\n",
    "from typing import (\n",
    "    Any, List, Set, Tuple, Callable, Iterable, Mapping, NewType\n",
    ")\n",
    "\n",
    "import matplotlib.pyplot as plt\n",
    "from PIL import Image, ImageShow, ImageDraw\n",
    "\n",
    "%matplotlib inline\n",
    "\n",
    "random.seed()\n"
   ]
  },
  {
   "cell_type": "markdown",
   "metadata": {},
   "source": [
    "`json` 애노테이션을 읽어서 이미지 경로와 일치 여부를 먼저 확인하겠습니다.\n"
   ]
  },
  {
   "cell_type": "markdown",
   "metadata": {},
   "source": [
    "그전에 일단 경로 확인\n"
   ]
  },
  {
   "cell_type": "code",
   "execution_count": 4,
   "metadata": {},
   "outputs": [
    {
     "name": "stdout",
     "output_type": "stream",
     "text": [
      "/home/elice/project-cyberdyne/ai\n",
      "['validation-labels-src', 'training-labels-src', 'training', 'NanumGothic.ttf', 'validation']\n"
     ]
    }
   ],
   "source": [
    "print(os.getcwd())\n",
    "print(os.listdir('dataset'))"
   ]
  },
  {
   "cell_type": "markdown",
   "metadata": {},
   "source": [
    "라벨을 읽어서 매치되는 이미지가 없으면 표시합니다.\n"
   ]
  },
  {
   "cell_type": "markdown",
   "metadata": {},
   "source": [
    "`*_images` 형식은 아래와 같이 할 계획입니다.\n",
    "\n",
    "```py\n",
    "box = tuple[tuple[int, int], tuple[int, int]]\n",
    "List[tuple[pathname, List[box]]]\n",
    "```\n"
   ]
  },
  {
   "cell_type": "markdown",
   "metadata": {},
   "source": [
    "가끔 폴리곤이란 녀석들이 있어서 변환 함수가 필요합니다.\n"
   ]
  },
  {
   "cell_type": "code",
   "execution_count": 10,
   "metadata": {},
   "outputs": [],
   "source": [
    "Box = NewType('Box', Tuple[Tuple[int, int], Tuple[int, int]])\n",
    "\n",
    "def polygon_to_box(verts: Iterable[Mapping[str, str]]) -> Box:\n",
    "    '''``POLYGON`` 타입 드로잉을 ``BOX`` 형식으로 변환해 반환합니다.'''\n",
    "    as_nums = [\n",
    "        tuple(map(int, list(vert.values())[0].split(','))) for vert in verts\n",
    "    ]\n",
    "    box = (\n",
    "        (min(x for x, y in as_nums), min(y for x, y in as_nums)),\n",
    "        (max(x for x, y in as_nums), max(y for x, y in as_nums)),\n",
    "    )\n",
    "    return box\n"
   ]
  },
  {
   "cell_type": "code",
   "execution_count": 28,
   "metadata": {},
   "outputs": [],
   "source": [
    "ImageInfo = namedtuple('ImageInfo', ['path', 'boxes'])\n",
    "\n",
    "def get_imageinfo(top: str) -> List[ImageInfo]:\n",
    "    images = []\n",
    "\n",
    "    for stem, branches, leaves in os.walk(top):\n",
    "        for leaf in leaves:\n",
    "            if path.splitext(leaf)[1].lower() == '.json':\n",
    "                pathname = path.join(stem, leaf)\n",
    "                json_in = open(pathname, 'r', encoding='utf-8')\n",
    "                label = json.load(json_in)\n",
    "\n",
    "                # 이미지 상대 경로를 구합니다.\n",
    "                prefix = path.dirname(path.relpath(pathname, top))\n",
    "                image_path = path.join(prefix, label['FILE NAME'])\n",
    "\n",
    "                # 박스 리스트를 만듭니다.\n",
    "                boxes = []\n",
    "                for box_n in range(int(label['BoundingCount'])):\n",
    "                    boxinfo = label['Bounding'][box_n]\n",
    "                    if boxinfo['Drawing'] == 'POLYGON':\n",
    "                        box = polygon_to_box(boxinfo['PolygonPoint'])\n",
    "                    else:\n",
    "                        box = map(\n",
    "                            int, \n",
    "                            (\n",
    "                                boxinfo['x1'],\n",
    "                                boxinfo['y1'],\n",
    "                                boxinfo['x2'],\n",
    "                                boxinfo['y2'],\n",
    "                            )\n",
    "                        )\n",
    "                    boxes.append(box)\n",
    "\n",
    "                images.append(ImageInfo(image_path, boxes))\n",
    "\n",
    "    return images"
   ]
  },
  {
   "cell_type": "code",
   "execution_count": 29,
   "metadata": {},
   "outputs": [],
   "source": [
    "train_images = get_imageinfo('./dataset/training-labels-src')\n",
    "val_images = get_imageinfo('./dataset/validation-labels-src')"
   ]
  },
  {
   "cell_type": "markdown",
   "metadata": {},
   "source": [
    "이미지가 실제로 있는지 확인해 보겠습니다. 하나는 이미 알고 있습니다.\n"
   ]
  },
  {
   "cell_type": "code",
   "execution_count": 33,
   "metadata": {},
   "outputs": [],
   "source": [
    "train_images_missing = set()\n",
    "for imageinfo in train_images:\n",
    "    pathname = path.join('./dataset/training', imageinfo.path)\n",
    "    if not path.exists(pathname):\n",
    "        # print(pathname)\n",
    "        train_images_missing.add(imageinfo.path)\n",
    "\n",
    "val_images_missing = set()\n",
    "for imageinfo in val_images:\n",
    "    pathname = path.join('./dataset/validation', imageinfo.path)\n",
    "    if not path.exists(pathname):\n",
    "        # print(pathname)\n",
    "        val_images_missing.add(imageinfo.path)\n"
   ]
  },
  {
   "cell_type": "code",
   "execution_count": 34,
   "metadata": {},
   "outputs": [
    {
     "name": "stdout",
     "output_type": "stream",
     "text": [
      "1\n",
      "0\n"
     ]
    }
   ],
   "source": [
    "print(len(train_images_missing))\n",
    "print(len(val_images_missing))\n"
   ]
  },
  {
   "cell_type": "code",
   "execution_count": 35,
   "metadata": {},
   "outputs": [
    {
     "name": "stdout",
     "output_type": "stream",
     "text": [
      "{'캔류/맥주캔/22_X006_C013_1015/22_X006_C013_1015_0.jpg'}\n",
      "set()\n"
     ]
    }
   ],
   "source": [
    "print(train_images_missing)\n",
    "print(val_images_missing)"
   ]
  },
  {
   "cell_type": "markdown",
   "metadata": {},
   "source": [
    "### ~~빠진 파일들~~\n",
    "\n",
    "~~라벨 -> 이미지 순으로 매치했을 때 빠진 파일이 엄청나게 많다는 것을 알았습니다.~~\n",
    "\n",
    "~~빠진 파일은 training 에서 27000개, validation 에서 14000 개 가량입니다.~~\n",
    "\n",
    "- ~~training: 의류/외투, 상의, 하의~~\n",
    "- ~~validation: 유리병, 가구류, 나무 (하위는 다양)~~\n",
    "\n",
    "수정: *상대경로 계산을 잘못해서 그랬던 것 같습니다.*\n",
    "\n",
    "이미지 -> 라벨 순으로 매치하면 어떤 파일이 빠지는지도 봐야 할 것 같습니다.\n",
    "\n",
    "혹시 이미지 파일 이름이 그냥 단순하게 틀린 것도 있을지 모릅니다.\n"
   ]
  },
  {
   "cell_type": "code",
   "execution_count": 50,
   "metadata": {},
   "outputs": [],
   "source": [
    "def get_missing_json(image_top: str, json_top) -> Set[str]:\n",
    "    result = set()\n",
    "    for stem, branches, leaves in os.walk(image_top):\n",
    "        for leaf in leaves:\n",
    "            pathname = path.join(stem, leaf)\n",
    "            rel = path.relpath(pathname, image_top)\n",
    "            json_path = path.join(\n",
    "                json_top, path.splitext(rel)[0] + '.Json'\n",
    "            )\n",
    "            if not path.exists(json_path):\n",
    "                result.add(json_path)\n",
    "\n",
    "    return result\n"
   ]
  },
  {
   "cell_type": "code",
   "execution_count": 49,
   "metadata": {},
   "outputs": [
    {
     "name": "stdout",
     "output_type": "stream",
     "text": [
      "/home/elice/project-cyberdyne/ai\n",
      "True\n",
      "False\n",
      "['19_X015_C016_1214_2.Json', '19_X015_C016_1214_4.Json', '19_X015_C016_1214_0.Json', '19_X015_C016_1214_1.Json', '19_X015_C016_1214_3.Json']\n"
     ]
    }
   ],
   "source": [
    "print(os.getcwd())\n",
    "print(path.exists(\n",
    "    './dataset/validation/자전거/두발자전거/19_X015_C016_1214/19_X015_C016_1214_3.jpg')\n",
    ")\n",
    "print(path.exists(\n",
    "    './dataset/validation-labels-src/자전거/두발자전거/19_X015_C016_1214/19_X015_C016_1214_3.json')\n",
    ")\n",
    "print(os.listdir('./dataset/validation-labels-src/자전거/두발자전거/19_X015_C016_1214'))\n"
   ]
  },
  {
   "cell_type": "markdown",
   "metadata": {},
   "source": [
    "확장자를 멍청하게 `Json`으로 해놔서 못찾는 거였습니다.\n",
    "\n",
    "굳이 확장자 첫글자를 대문자로 해야만 했던 데이터 구축업체가 병신인지,\n",
    "쓸데없이 파일 경로에 대소문자를 구분하는 유닉스가 병신인지\n",
    "분간이 잘 안갑니다.\n",
    "\n",
    "지금은 일단 그냥 넘어갔다가 나중에 전부 확장자를 소문자로 바꾸든지 해야겠습니다.\n"
   ]
  },
  {
   "cell_type": "code",
   "execution_count": 51,
   "metadata": {},
   "outputs": [
    {
     "name": "stdout",
     "output_type": "stream",
     "text": [
      "0\n",
      "0\n"
     ]
    }
   ],
   "source": [
    "train_labels_missing = get_missing_json(\n",
    "    './dataset/training', './dataset/training-labels-src'\n",
    ")\n",
    "\n",
    "val_labels_missing = get_missing_json(\n",
    "    './dataset/validation', './dataset/validation-labels-src'\n",
    ")\n",
    "\n",
    "print(len(train_labels_missing))\n",
    "print(len(val_labels_missing))\n"
   ]
  },
  {
   "cell_type": "markdown",
   "metadata": {},
   "source": [
    "## 이미지 무작위로 뽑기\n",
    "\n",
    "무작위로 뽑기를 위해 대분류/소분류/전체 등 아무 분류에나 적용할 수 있는 범용성 있는 함수를\n",
    "하나 만들겠습니다.\n"
   ]
  },
  {
   "cell_type": "markdown",
   "metadata": {},
   "source": [
    "### 이미지 로드해서 박스 그려주는 함수\n",
    "\n"
   ]
  },
  {
   "cell_type": "code",
   "execution_count": 54,
   "metadata": {},
   "outputs": [],
   "source": [
    "def image_with_box(pathname: str, boxes: Iterable[Box]) -> Image.Image:\n",
    "    image = Image.open(pathname)\n",
    "    drawer = ImageDraw.Draw(image)\n",
    "    for box in boxes:\n",
    "        color = (random.randint(0, 255) for _ in range(3))\n",
    "        drawer.rectangle(box, outline=color)\n",
    "\n",
    "    return image\n",
    "        "
   ]
  },
  {
   "cell_type": "markdown",
   "metadata": {},
   "source": [
    "## 샘플링 준비\n",
    "\n",
    "여러 카테고리를 자유롭게 선택할 수 있으려면 상당히 힘든 작업입니다.\n"
   ]
  },
  {
   "cell_type": "code",
   "execution_count": 56,
   "metadata": {},
   "outputs": [],
   "source": [
    "train_images_dict = {imageinfo.path: imageinfo for imageinfo in train_images}\n",
    "val_images_dict = {imageinfo.path: imageinfo for imageinfo in val_images}"
   ]
  },
  {
   "cell_type": "code",
   "execution_count": 63,
   "metadata": {},
   "outputs": [],
   "source": [
    "def build_classes(\n",
    "    top: str, src: Iterable[ImageInfo]\n",
    ") -> Mapping[str, List[str]]:\n",
    "    classes = {}\n",
    "    _classes = os.listdir(top)\n",
    "    for archclass in _classes[:]:\n",
    "        _classes.extend(os.listdir(path.join(top, archclass)))\n",
    "\n",
    "    for classname in _classes:\n",
    "        classes[classname] = []\n",
    "\n",
    "    for imageinfo in src:\n",
    "        for classname in _classes:\n",
    "            if classname in imageinfo.path:\n",
    "                classes[classname].append(imageinfo)\n",
    "\n",
    "    return classes\n"
   ]
  },
  {
   "cell_type": "code",
   "execution_count": 64,
   "metadata": {},
   "outputs": [],
   "source": [
    "train_classes = build_classes('./dataset/training', train_images)\n",
    "val_classes = build_classes('./dataset/validation', val_images)"
   ]
  },
  {
   "cell_type": "code",
   "execution_count": 65,
   "metadata": {},
   "outputs": [],
   "source": [
    "def sample(\n",
    "    population: Mapping[str, List[str]], *classes: str, k: int = 9\n",
    ") -> Iterable[ImageInfo]:\n",
    "    pool = []\n",
    "    for classname in classes:\n",
    "        pool.extend(population[classname])\n",
    "\n",
    "    return random.sample(pool, k)"
   ]
  },
  {
   "cell_type": "markdown",
   "metadata": {},
   "source": [
    "### 모든 클래스 리스트\n",
    "\n",
    "```py\n",
    "['의류', '자전거', '종이류', '캔류', '비닐', '도기류', '고철류', '스티로폼', '페트병', '전자제품', '형광등', '플라스틱류', '유리병', '가구류', '나무', '외투', '상의', '하의', '합성섬유', '원피스', '면의류', '기타의류', '레깅스', '두발자전거', '세발자전거', '네발자전거', '종이봉투', '신문지', '포장상자', '책자', '음료수곽', '상자류', '노트', '기타', '신발상자', '스팸류', '통조림캔', '맥주캔', '커피캔', '참기름캔', '음료수캔', '봉투', '포장제', '일회용덮개', '리필용기', '에어캡', '과자봉지', '장식품', '그릇류', '항아리', '화분', '받침', '컵', '병', '뚝배기', '주전자', '철옷걸이', '비철금속', '프라이팬', '골프채', '전기프라이팬', '고철', '포장용기', '보호재', '네모트레이', '일회용음료수잔', '프린터', '에어컨', '냉장고', '청소기', '전자레인지', '전기밥솥', '전기다리미', '믹서', '비디오플레이어', '팩시밀리', '전기히터', '오디오', '음식물처리기', '가습기', '공기청정기', '식기건조기', '컴퓨터', 'TV', '이동전화단말기', '연수기', '전기오븐', '하이패스', '전기정수기', '선풍기', '세탁기', '복사기', '콤팩트형', '백열전구', 'LED전구', '직관형', '안정기내장형', '환형', '욕실용품', '대용량플라스틱통', '밀폐용기', '장남감', '바구니', '기타술병', '음료수병', '맥주병', '주방용기', '소주병', '박카스병', '물병', '협탁', '소파', '화장대', '장롱', '의자', '수납장', '침대', '밥상', '서랍장', '책상', '싱크대', '포장재', '주방용품', '액자', '나무행거', '주걱', '도마']\n",
    "```\n"
   ]
  }
 ],
 "metadata": {
  "kernelspec": {
   "display_name": "cyberdyne",
   "language": "python",
   "name": "cyberdyne"
  },
  "language_info": {
   "codemirror_mode": {
    "name": "ipython",
    "version": 3
   },
   "file_extension": ".py",
   "mimetype": "text/x-python",
   "name": "python",
   "nbconvert_exporter": "python",
   "pygments_lexer": "ipython3",
   "version": "3.8.10"
  },
  "orig_nbformat": 4
 },
 "nbformat": 4,
 "nbformat_minor": 2
}
