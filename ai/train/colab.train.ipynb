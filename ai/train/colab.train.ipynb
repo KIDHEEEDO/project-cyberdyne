{
  "cells": [
    {
      "cell_type": "markdown",
      "metadata": {
        "id": "8AGNx0gS-JHu"
      },
      "source": [
        "# SET UP"
      ]
    },
    {
      "cell_type": "code",
      "execution_count": null,
      "metadata": {
        "id": "6xM0ZiTV_f1w"
      },
      "outputs": [],
      "source": [
        "from google.colab import drive\n",
        "drive.mount('/content/drive/')"
      ]
    },
    {
      "cell_type": "code",
      "execution_count": null,
      "metadata": {
        "id": "X4TannGwAIJL"
      },
      "outputs": [],
      "source": [
        "!git clone https://github.com/ultralytics/yolov5.git\n",
        "%cd yolov5\n",
        "!pip install -r requirements.txt"
      ]
    },
    {
      "cell_type": "code",
      "execution_count": null,
      "metadata": {
        "id": "8ZnNED8QA8cT"
      },
      "outputs": [],
      "source": [
        "%pushd ..\n",
        "!7z x drive/MyDrive/dataset/yolov5.exp.160.zip -o\"dataset/yolov5.exp\"\n",
        "%popd\n"
      ]
    },
    {
      "cell_type": "code",
      "execution_count": null,
      "metadata": {
        "id": "K2C55oHzEA4V"
      },
      "outputs": [],
      "source": [
        "import torch\n",
        "\n",
        "if torch.cuda.is_available():\n",
        "    print(f'CUDA Available ({(torch.cuda.device_count() - 1)}[{torch.cuda.current_device()}])')\n",
        "else:\n",
        "    print(f'CUDA not available')"
      ]
    },
    {
      "cell_type": "markdown",
      "metadata": {
        "id": "ZXpoUvnnFfpD"
      },
      "source": [
        "# TRAIN"
      ]
    },
    {
      "cell_type": "code",
      "execution_count": null,
      "metadata": {
        "id": "TmZJfyL-FiQB"
      },
      "outputs": [],
      "source": [
        "!python3 train.py \\\n",
        "  --data '../drive/MyDrive/dataset/data-colab.yaml' \\\n",
        "  --img-size 160 \\\n",
        "  --batch-size -1 \\\n",
        "  --project '../drive/MyDrive/dataset/main' \\\n",
        "  --optimizer 'AdamW' \\\n",
        "  --image-weights \\\n",
        "  --patience 4 \\\n",
        "  --weights '../drive/MyDrive/dataset/models/main.0/weights/last.pt' \\\n",
        "  --hyp '../drive/MyDrive/dataset/hyp.init.yaml' \\\n",
        "  --name 'main.0' \\\n",
        "  --epochs 1\n",
        "  # --evolve 10\n"
      ]
    },
    {
      "cell_type": "markdown",
      "metadata": {
        "id": "bD7LUUKJGzIO"
      },
      "source": [
        "# Keep this session alive\n",
        "\n",
        "```js\n",
        "function ClickConnect(){\n",
        "  console.log('Working');\n",
        "  document\n",
        "    .querySelector('colab-connect-button')\n",
        "    .shadowRoot\n",
        "    .getElementById('connect')\n",
        "    .click();\n",
        "}\n",
        "setInterval(ClickConnect,60000)\n",
        "```\n",
        "\n",
        "```js\n",
        "function ClickConnect(){\n",
        "  console.log(\"Working\"); \n",
        "  document.querySelector(\"colab-toolbar-button#connect\").click() \n",
        "}\n",
        "setInterval(ClickConnect,60000)\n",
        "```\n",
        "\n",
        "```js\n",
        "function ClickConnect(){\n",
        "  console.log(\"Working\"); \n",
        "  document.querySelector(\"colab-toolbar-button\").click() \n",
        "}setInterval(ClickConnect,60000)\n",
        "```"
      ]
    }
  ],
  "metadata": {
    "accelerator": "GPU",
    "colab": {
      "collapsed_sections": [],
      "name": "colab-train.ipynb",
      "private_outputs": true,
      "provenance": []
    },
    "gpuClass": "standard",
    "kernelspec": {
      "display_name": "Python 3",
      "name": "python3"
    },
    "language_info": {
      "name": "python"
    }
  },
  "nbformat": 4,
  "nbformat_minor": 0
}
