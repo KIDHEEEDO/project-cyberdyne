{
 "cells": [
  {
   "cell_type": "markdown",
   "metadata": {},
   "source": [
    "# 축소 데이터셋\n",
    "\n",
    "하이퍼파라미터 실험에 사용하기 위해 데이터셋을 축소합니다.\n",
    "\n",
    "현재 트레인 데이터는 이미지셋 하나당 5장으로 구성되어 있으므로\n",
    "\n",
    "5장 중에서 하나씩만 무작위로 뽑으면 될 것 같습니다.\n"
   ]
  },
  {
   "cell_type": "code",
   "execution_count": null,
   "metadata": {
    "vscode": {
     "languageId": "python"
    }
   },
   "outputs": [],
   "source": []
  }
 ],
 "metadata": {
  "kernelspec": {
   "display_name": "cyberdyne",
   "language": "python",
   "name": "cyberdyne"
  },
  "orig_nbformat": 4
 },
 "nbformat": 4,
 "nbformat_minor": 2
}
