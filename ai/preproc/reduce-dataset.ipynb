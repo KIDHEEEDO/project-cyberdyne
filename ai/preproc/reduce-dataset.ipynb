{
 "cells": [
  {
   "cell_type": "markdown",
   "metadata": {},
   "source": [
    "# 축소 데이터셋\n",
    "\n",
    "하이퍼파라미터 실험에 사용하기 위해 데이터셋을 축소합니다.\n",
    "\n",
    "현재 트레인 데이터는 이미지셋 하나당 5장으로 구성되어 있으므로\n",
    "\n",
    "5장 중에서 하나씩만 무작위로 뽑으면 될 것 같습니다.\n"
   ]
  },
  {
   "cell_type": "code",
   "execution_count": 4,
   "metadata": {},
   "outputs": [],
   "source": [
    "import os\n",
    "import random\n",
    "\n",
    "from os import path\n",
    "from pprint import pprint\n",
    "\n",
    "from typing import Sequence\n"
   ]
  },
  {
   "cell_type": "code",
   "execution_count": 3,
   "metadata": {},
   "outputs": [],
   "source": [
    "random.seed()\n"
   ]
  },
  {
   "cell_type": "markdown",
   "metadata": {},
   "source": [
    "축소한다고 해도 데이터 크기가 상당하므로 복사 대신 심링크를 하겠습니다.\n"
   ]
  },
  {
   "cell_type": "code",
   "execution_count": 7,
   "metadata": {},
   "outputs": [],
   "source": [
    "def reduce_dataset(src: str, dst: str) -> Sequence[str]:\n",
    "    '''실패한 파일의 원래 경로를 시퀀스로 반환합니다.'''\n",
    "    fail = []\n",
    "    for stem, branches, leaves in os.walk(src):\n",
    "        # 무작위로 하나 골라서 접두 경로를 구하고 그대로 dst에 링크합니다.\n",
    "        if not leaves:\n",
    "            continue\n",
    "\n",
    "        leaf = random.choice(leaves)\n",
    "        pathname = path.join(stem, leaf)\n",
    "        rel = path.relpath(pathname, src)\n",
    "        prefix = path.dirname(rel)\n",
    "\n",
    "        try:\n",
    "            os.makedirs(path.join(src, prefix), exist_ok=True)\n",
    "            os.symlink(pathname, path.join(src, rel))\n",
    "        except OSError:\n",
    "            fail.append(rel)\n",
    "\n",
    "    return sorted(fail)\n"
   ]
  },
  {
   "cell_type": "markdown",
   "metadata": {},
   "source": [
    "## train 축소 데이터셋을 생성하려면 여기로\n"
   ]
  },
  {
   "cell_type": "code",
   "execution_count": 8,
   "metadata": {},
   "outputs": [
    {
     "ename": "TypeError",
     "evalue": "an integer is required (got type str)",
     "output_type": "error",
     "traceback": [
      "\u001b[0;31m---------------------------------------------------------------------------\u001b[0m",
      "\u001b[0;31mTypeError\u001b[0m                                 Traceback (most recent call last)",
      "\u001b[1;32md:\\movomo\\Documents\\project-cyberdyne\\ai\\preproc\\reduce-dataset.ipynb Cell 7'\u001b[0m in \u001b[0;36m<cell line: 1>\u001b[0;34m()\u001b[0m\n\u001b[0;32m----> <a href='vscode-notebook-cell:/d%3A/movomo/Documents/project-cyberdyne/ai/preproc/reduce-dataset.ipynb#ch0000006?line=0'>1</a>\u001b[0m reduce_dataset(\u001b[39m'\u001b[39;49m\u001b[39m./dataset/training\u001b[39;49m\u001b[39m'\u001b[39;49m, \u001b[39m'\u001b[39;49m\u001b[39m./dataset/yolov5.exp/images\u001b[39;49m\u001b[39m'\u001b[39;49m)\n",
      "\u001b[1;32md:\\movomo\\Documents\\project-cyberdyne\\ai\\preproc\\reduce-dataset.ipynb Cell 5'\u001b[0m in \u001b[0;36mreduce_dataset\u001b[0;34m(src, dst)\u001b[0m\n\u001b[1;32m     <a href='vscode-notebook-cell:/d%3A/movomo/Documents/project-cyberdyne/ai/preproc/reduce-dataset.ipynb#ch0000003?line=11'>12</a>\u001b[0m prefix \u001b[39m=\u001b[39m path\u001b[39m.\u001b[39mdirname(rel)\n\u001b[1;32m     <a href='vscode-notebook-cell:/d%3A/movomo/Documents/project-cyberdyne/ai/preproc/reduce-dataset.ipynb#ch0000003?line=13'>14</a>\u001b[0m \u001b[39mtry\u001b[39;00m:\n\u001b[0;32m---> <a href='vscode-notebook-cell:/d%3A/movomo/Documents/project-cyberdyne/ai/preproc/reduce-dataset.ipynb#ch0000003?line=14'>15</a>\u001b[0m     os\u001b[39m.\u001b[39;49mmakedirs(src, prefix, exist_ok\u001b[39m=\u001b[39;49m\u001b[39mTrue\u001b[39;49;00m)\n\u001b[1;32m     <a href='vscode-notebook-cell:/d%3A/movomo/Documents/project-cyberdyne/ai/preproc/reduce-dataset.ipynb#ch0000003?line=15'>16</a>\u001b[0m     os\u001b[39m.\u001b[39msymlink(pathname, path\u001b[39m.\u001b[39mjoin(src, rel))\n\u001b[1;32m     <a href='vscode-notebook-cell:/d%3A/movomo/Documents/project-cyberdyne/ai/preproc/reduce-dataset.ipynb#ch0000003?line=16'>17</a>\u001b[0m \u001b[39mexcept\u001b[39;00m \u001b[39mOSError\u001b[39;00m:\n",
      "File \u001b[0;32m/usr/lib/python3.8/os.py:223\u001b[0m, in \u001b[0;36mmakedirs\u001b[0;34m(name, mode, exist_ok)\u001b[0m\n\u001b[1;32m    221\u001b[0m         \u001b[39mreturn\u001b[39;00m\n\u001b[1;32m    222\u001b[0m \u001b[39mtry\u001b[39;00m:\n\u001b[0;32m--> 223\u001b[0m     mkdir(name, mode)\n\u001b[1;32m    224\u001b[0m \u001b[39mexcept\u001b[39;00m \u001b[39mOSError\u001b[39;00m:\n\u001b[1;32m    225\u001b[0m     \u001b[39m# Cannot rely on checking for EEXIST, since the operating system\u001b[39;00m\n\u001b[1;32m    226\u001b[0m     \u001b[39m# could give priority to other errors like EACCES or EROFS\u001b[39;00m\n\u001b[1;32m    227\u001b[0m     \u001b[39mif\u001b[39;00m \u001b[39mnot\u001b[39;00m exist_ok \u001b[39mor\u001b[39;00m \u001b[39mnot\u001b[39;00m path\u001b[39m.\u001b[39misdir(name):\n",
      "\u001b[0;31mTypeError\u001b[0m: an integer is required (got type str)"
     ]
    }
   ],
   "source": [
    "reduce_dataset('./dataset/training', './dataset/yolov5.exp/images')\n"
   ]
  }
 ],
 "metadata": {
  "kernelspec": {
   "display_name": "Python 3 (ipykernel)",
   "language": "python",
   "name": "python3"
  },
  "language_info": {
   "codemirror_mode": {
    "name": "ipython",
    "version": 3
   },
   "file_extension": ".py",
   "mimetype": "text/x-python",
   "name": "python",
   "nbconvert_exporter": "python",
   "pygments_lexer": "ipython3",
   "version": "3.8.10"
  },
  "orig_nbformat": 4
 },
 "nbformat": 4,
 "nbformat_minor": 2
}
