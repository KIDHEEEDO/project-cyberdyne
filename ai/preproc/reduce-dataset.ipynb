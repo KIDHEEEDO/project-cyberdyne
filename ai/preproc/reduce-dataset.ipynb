{
 "cells": [
  {
   "cell_type": "markdown",
   "metadata": {},
   "source": [
    "# 축소 데이터셋\n",
    "\n",
    "하이퍼파라미터 실험에 사용하기 위해 데이터셋을 축소합니다.\n",
    "\n",
    "현재 트레인 데이터는 이미지셋 하나당 5장으로 구성되어 있으므로\n",
    "\n",
    "5장 중에서 하나씩만 무작위로 뽑으면 될 것 같습니다.\n"
   ]
  },
  {
   "cell_type": "code",
   "execution_count": 4,
   "metadata": {},
   "outputs": [],
   "source": [
    "import os\n",
    "import random\n",
    "\n",
    "from os import path\n",
    "from pprint import pprint\n",
    "\n",
    "from typing import Sequence\n"
   ]
  },
  {
   "cell_type": "code",
   "execution_count": 3,
   "metadata": {},
   "outputs": [],
   "source": [
    "random.seed()\n"
   ]
  },
  {
   "cell_type": "markdown",
   "metadata": {},
   "source": [
    "축소한다고 해도 데이터 크기가 상당하므로 복사 대신 심링크를 하겠습니다.\n"
   ]
  },
  {
   "cell_type": "code",
   "execution_count": 5,
   "metadata": {},
   "outputs": [],
   "source": [
    "def reduce_dataset(src: str, dst: str) -> Sequence[str]:\n",
    "    '''실패한 파일의 원래 경로를 시퀀스로 반환합니다.'''\n",
    "    fail = []\n",
    "    for stem, branches, leaves in os.walk(src):\n",
    "        # 무작위로 하나 골라서 접두 경로를 구하고 그대로 dst에 링크합니다.\n",
    "        leaf = random.choice(leaves)\n",
    "        pathname = path.join(stem, leaf)\n",
    "        rel = path.relpath(pathname, src)\n",
    "        prefix = path.dirname(rel)\n",
    "\n",
    "        try:\n",
    "            os.makedirs(src, prefix, exist_ok=True)\n",
    "            os.symlink(pathname, path.join(src, rel))\n",
    "        except OSError:\n",
    "            fail.append(rel)\n",
    "\n",
    "    return sorted(fail)\n"
   ]
  }
 ],
 "metadata": {
  "kernelspec": {
   "display_name": "Python 3 (ipykernel)",
   "language": "python",
   "name": "python3"
  },
  "language_info": {
   "codemirror_mode": {
    "name": "ipython",
    "version": 3
   },
   "file_extension": ".py",
   "mimetype": "text/x-python",
   "name": "python",
   "nbconvert_exporter": "python",
   "pygments_lexer": "ipython3",
   "version": "3.8.10"
  },
  "orig_nbformat": 4
 },
 "nbformat": 4,
 "nbformat_minor": 2
}
