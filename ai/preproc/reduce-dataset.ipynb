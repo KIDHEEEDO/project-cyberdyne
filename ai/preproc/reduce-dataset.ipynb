{
 "cells": [
  {
   "cell_type": "markdown",
   "metadata": {},
   "source": [
    "# 축소 데이터셋\n",
    "\n",
    "하이퍼파라미터 실험에 사용하기 위해 데이터셋을 축소합니다.\n",
    "\n",
    "현재 트레인 데이터는 이미지셋 하나당 5장으로 구성되어 있으므로\n",
    "\n",
    "5장 중에서 하나씩만 무작위로 뽑으면 될 것 같습니다.\n"
   ]
  },
  {
   "cell_type": "code",
   "execution_count": 4,
   "metadata": {},
   "outputs": [],
   "source": [
    "import os\n",
    "import random\n",
    "\n",
    "from os import path\n",
    "from pprint import pprint\n",
    "\n",
    "from typing import Sequence\n"
   ]
  },
  {
   "cell_type": "code",
   "execution_count": 3,
   "metadata": {},
   "outputs": [],
   "source": [
    "random.seed()\n"
   ]
  },
  {
   "cell_type": "markdown",
   "metadata": {},
   "source": [
    "축소한다고 해도 데이터 크기가 상당하므로 복사 대신 심링크를 하겠습니다.\n"
   ]
  },
  {
   "cell_type": "code",
   "execution_count": 7,
   "metadata": {},
   "outputs": [],
   "source": [
    "def reduce_dataset(src: str, dst: str) -> Sequence[str]:\n",
    "    '''실패한 파일의 원래 경로를 시퀀스로 반환합니다.'''\n",
    "    fail = []\n",
    "    for stem, branches, leaves in os.walk(src):\n",
    "        # 무작위로 하나 골라서 접두 경로를 구하고 그대로 dst에 링크합니다.\n",
    "        if not leaves:\n",
    "            continue\n",
    "        \n",
    "        leaf = random.choice(leaves)\n",
    "        pathname = path.join(stem, leaf)\n",
    "        rel = path.relpath(pathname, src)\n",
    "        prefix = path.dirname(rel)\n",
    "\n",
    "        try:\n",
    "            os.makedirs(src, prefix, exist_ok=True)\n",
    "            os.symlink(pathname, path.join(src, rel))\n",
    "        except OSError:\n",
    "            fail.append(rel)\n",
    "\n",
    "    return sorted(fail)\n"
   ]
  },
  {
   "cell_type": "markdown",
   "metadata": {},
   "source": [
    "## train 축소 데이터셋을 생성하려면 여기로\n"
   ]
  },
  {
   "cell_type": "code",
   "execution_count": 6,
   "metadata": {},
   "outputs": [
    {
     "ename": "IndexError",
     "evalue": "Cannot choose from an empty sequence",
     "output_type": "error",
     "traceback": [
      "\u001b[0;31m---------------------------------------------------------------------------\u001b[0m",
      "\u001b[0;31mIndexError\u001b[0m                                Traceback (most recent call last)",
      "\u001b[1;32md:\\movomo\\Documents\\project-cyberdyne\\ai\\preproc\\reduce-dataset.ipynb Cell 7'\u001b[0m in \u001b[0;36m<cell line: 1>\u001b[0;34m()\u001b[0m\n\u001b[0;32m----> <a href='vscode-notebook-cell:/d%3A/movomo/Documents/project-cyberdyne/ai/preproc/reduce-dataset.ipynb#ch0000006?line=0'>1</a>\u001b[0m reduce_dataset(\u001b[39m'\u001b[39;49m\u001b[39m./dataset/training\u001b[39;49m\u001b[39m'\u001b[39;49m, \u001b[39m'\u001b[39;49m\u001b[39m./dataset/yolov5.exp/images\u001b[39;49m\u001b[39m'\u001b[39;49m)\n",
      "\u001b[1;32md:\\movomo\\Documents\\project-cyberdyne\\ai\\preproc\\reduce-dataset.ipynb Cell 5'\u001b[0m in \u001b[0;36mreduce_dataset\u001b[0;34m(src, dst)\u001b[0m\n\u001b[1;32m      <a href='vscode-notebook-cell:/d%3A/movomo/Documents/project-cyberdyne/ai/preproc/reduce-dataset.ipynb#ch0000003?line=2'>3</a>\u001b[0m fail \u001b[39m=\u001b[39m []\n\u001b[1;32m      <a href='vscode-notebook-cell:/d%3A/movomo/Documents/project-cyberdyne/ai/preproc/reduce-dataset.ipynb#ch0000003?line=3'>4</a>\u001b[0m \u001b[39mfor\u001b[39;00m stem, branches, leaves \u001b[39min\u001b[39;00m os\u001b[39m.\u001b[39mwalk(src):\n\u001b[1;32m      <a href='vscode-notebook-cell:/d%3A/movomo/Documents/project-cyberdyne/ai/preproc/reduce-dataset.ipynb#ch0000003?line=4'>5</a>\u001b[0m     \u001b[39m# 무작위로 하나 골라서 접두 경로를 구하고 그대로 dst에 링크합니다.\u001b[39;00m\n\u001b[0;32m----> <a href='vscode-notebook-cell:/d%3A/movomo/Documents/project-cyberdyne/ai/preproc/reduce-dataset.ipynb#ch0000003?line=5'>6</a>\u001b[0m     leaf \u001b[39m=\u001b[39m random\u001b[39m.\u001b[39;49mchoice(leaves)\n\u001b[1;32m      <a href='vscode-notebook-cell:/d%3A/movomo/Documents/project-cyberdyne/ai/preproc/reduce-dataset.ipynb#ch0000003?line=6'>7</a>\u001b[0m     pathname \u001b[39m=\u001b[39m path\u001b[39m.\u001b[39mjoin(stem, leaf)\n\u001b[1;32m      <a href='vscode-notebook-cell:/d%3A/movomo/Documents/project-cyberdyne/ai/preproc/reduce-dataset.ipynb#ch0000003?line=7'>8</a>\u001b[0m     rel \u001b[39m=\u001b[39m path\u001b[39m.\u001b[39mrelpath(pathname, src)\n",
      "File \u001b[0;32m/usr/lib/python3.8/random.py:290\u001b[0m, in \u001b[0;36mRandom.choice\u001b[0;34m(self, seq)\u001b[0m\n\u001b[1;32m    288\u001b[0m     i \u001b[39m=\u001b[39m \u001b[39mself\u001b[39m\u001b[39m.\u001b[39m_randbelow(\u001b[39mlen\u001b[39m(seq))\n\u001b[1;32m    289\u001b[0m \u001b[39mexcept\u001b[39;00m \u001b[39mValueError\u001b[39;00m:\n\u001b[0;32m--> 290\u001b[0m     \u001b[39mraise\u001b[39;00m \u001b[39mIndexError\u001b[39;00m(\u001b[39m'\u001b[39m\u001b[39mCannot choose from an empty sequence\u001b[39m\u001b[39m'\u001b[39m) \u001b[39mfrom\u001b[39;00m \u001b[39mNone\u001b[39m\n\u001b[1;32m    291\u001b[0m \u001b[39mreturn\u001b[39;00m seq[i]\n",
      "\u001b[0;31mIndexError\u001b[0m: Cannot choose from an empty sequence"
     ]
    }
   ],
   "source": [
    "reduce_dataset('./dataset/training', './dataset/yolov5.exp/images')\n"
   ]
  }
 ],
 "metadata": {
  "kernelspec": {
   "display_name": "Python 3 (ipykernel)",
   "language": "python",
   "name": "python3"
  },
  "language_info": {
   "codemirror_mode": {
    "name": "ipython",
    "version": 3
   },
   "file_extension": ".py",
   "mimetype": "text/x-python",
   "name": "python",
   "nbconvert_exporter": "python",
   "pygments_lexer": "ipython3",
   "version": "3.8.10"
  },
  "orig_nbformat": 4
 },
 "nbformat": 4,
 "nbformat_minor": 2
}
