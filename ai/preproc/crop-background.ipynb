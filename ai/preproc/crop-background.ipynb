{
 "cells": [
  {
   "cell_type": "markdown",
   "metadata": {},
   "source": [
    "# 배경 이미지 생성\n",
    "\n",
    "여기서는 모델 학습에 사용할 배경 이미지를 생성합니다.\n",
    "\n",
    "아스팔트나 콘크리트 바닥같은 아무 사진이나 구해오면 되지만 그건 귀찮고,\n",
    "\n",
    "더 편한 방법이 있으므로 그냥 대충 만듭니다.\n",
    "\n",
    "목표는 400장인데 약간 더 많이 만들고 눈으로 골라내겠습니다.\n"
   ]
  },
  {
   "cell_type": "markdown",
   "metadata": {},
   "source": [
    "## 방법\n",
    "\n",
    "1. 바운딩 박스가 2개 이상이면 그냥 버립니다.\n",
    "2. 바운딩 박스의 왼/오른쪽은 너비, 위/아래쪽은 높이가 됩니다.\n",
    "3. 일단은 둘 모두 320 이상이 될 수 있는 이미지가 충분히 있는지를 보려고 합니다.\n",
    "4. 그게 장수가 충분히 많다면 거기서 고르고, 너무 적으면 기준을 좀 낮춥니다.\n",
    "5. json에서 읽어도 되지만 yolov5 라벨도 만들었으므로 그걸로 하는 게 좋을 것 같습니다.\n",
    "\n"
   ]
  },
  {
   "cell_type": "code",
   "execution_count": null,
   "metadata": {
    "vscode": {
     "languageId": "python"
    }
   },
   "outputs": [],
   "source": []
  }
 ],
 "metadata": {
  "kernelspec": {
   "display_name": "cyberdyne",
   "language": "python",
   "name": "cyberdyne"
  },
  "orig_nbformat": 4
 },
 "nbformat": 4,
 "nbformat_minor": 2
}
