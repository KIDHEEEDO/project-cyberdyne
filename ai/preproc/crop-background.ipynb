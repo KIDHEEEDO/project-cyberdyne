{
 "cells": [
  {
   "cell_type": "markdown",
   "metadata": {},
   "source": [
    "# 배경 이미지 생성\n",
    "\n",
    "여기서는 모델 학습에 사용할 배경 이미지를 생성합니다.\n",
    "\n",
    "아스팔트나 콘크리트 바닥같은 아무 사진이나 구해오면 되지만 그건 귀찮고,\n",
    "\n",
    "더 편한 방법이 있으므로 그냥 대충 만듭니다.\n",
    "\n",
    "목표는 400장인데 약간 더 많이 만들고 눈으로 골라내겠습니다.\n"
   ]
  },
  {
   "cell_type": "markdown",
   "metadata": {},
   "source": [
    "## 방법\n",
    "\n",
    "1. 바운딩 박스가 2개 이상이면 그냥 버립니다.\n",
    "2. 바운딩 박스의 왼/오른쪽은 너비, 위/아래쪽은 높이가 됩니다.\n",
    "3. 일단은 둘 모두 320 이상이 될 수 있는 이미지가 충분히 있는지를 보려고 합니다.\n",
    "4. 그게 장수가 충분히 많다면 거기서 고르고, 너무 적으면 기준을 좀 낮춥니다.\n",
    "5. json에서 읽어도 되지만 yolov5 라벨도 만들었으므로 그걸로 하는 게 좋을 것 같습니다.\n",
    "\n"
   ]
  },
  {
   "cell_type": "markdown",
   "metadata": {},
   "source": [
    "근데 생각해보니 기왕 이렇게 할거면 train에서 배경을 뽑아오는 것 보다 학습 동안 어차피\n",
    "안 쓸 validation 셋에서 뽑아보는 것도 좋을 것 같습니다.\n",
    "\n",
    "숫자만 맞으면 됩니다.\n"
   ]
  },
  {
   "cell_type": "code",
   "execution_count": 11,
   "metadata": {},
   "outputs": [],
   "source": [
    "import os\n",
    "import random\n",
    "\n",
    "# from collections import namedtuple\n",
    "from pathlib import Path\n",
    "from pprint import pprint\n",
    "from typing import (\n",
    "    Any, NamedTuple, NewType, Optional, Sequence, Tuple, Union\n",
    ")\n",
    "\n",
    "from PIL import Image\n",
    "\n",
    "\n",
    "random.seed()\n",
    "\n"
   ]
  },
  {
   "cell_type": "code",
   "execution_count": 15,
   "metadata": {},
   "outputs": [],
   "source": [
    "Rect = NewType('Rect', Sequence[Tuple[int, int]])\n",
    "\n",
    "class Label(object):\n",
    "    '''yolov5 라벨 한 줄(=바운딩 박스 1개)을 읽어 해석합니다.'''\n",
    "    classid: int\n",
    "    centerx: int\n",
    "    centery: int\n",
    "    width: int\n",
    "    height: int\n",
    "    dim: int\n",
    "\n",
    "    def __init__(self, text: str, dim: int = 640) -> None:\n",
    "        self.dim = int(dim)\n",
    "\n",
    "        cid, cx, cy, w, h = map(float, text.strip().split(' '))\n",
    "        self.classid = cid\n",
    "        self.centerx = round(cx * self.dim)\n",
    "        self.centery = round(cy * self.dim)\n",
    "        self.width = round(w * self.dim)\n",
    "        self.height = round(h * self.dim)\n",
    "\n",
    "    def biggest_rect(self, threshold: int) -> Optional[Rect]:\n",
    "        '''바운딩 박스를 제외한 가장 큰 크랍 렉트를 반환합니다.\n",
    "        \n",
    "        가장 큰 렉트가 ``threshold``보다 작으면 ``None``을 반환합니다.\n",
    "        '''\n",
    "        edges = [\n",
    "            self.centerx - self.width//2,\n",
    "            self.dim - self.centerx - self.width//2,\n",
    "            self.centery - self.height//2,\n",
    "            self.dim - self.centery - self.height//2,\n",
    "        ]\n",
    "        limiting_edge = max(edges)\n",
    "        if limiting_edge < threshold:\n",
    "            return None\n",
    "            \n",
    "        edge_index = edges.index(limiting_edge)\n"
   ]
  },
  {
   "cell_type": "code",
   "execution_count": 13,
   "metadata": {},
   "outputs": [
    {
     "ename": "SyntaxError",
     "evalue": "invalid syntax (1444649845.py, line 10)",
     "output_type": "error",
     "traceback": [
      "\u001b[0;36m  Input \u001b[0;32mIn [13]\u001b[0;36m\u001b[0m\n\u001b[0;31m    label =\u001b[0m\n\u001b[0m            ^\u001b[0m\n\u001b[0;31mSyntaxError\u001b[0m\u001b[0;31m:\u001b[0m invalid syntax\n"
     ]
    }
   ],
   "source": [
    "def nominate(top: Path, min_dim: float = 0.5) -> Sequence[Tuple[Path, Rect]]:\n",
    "    cache = set()\n",
    "    for pathname in top.rglob('*.txt'):\n",
    "        with open(pathname, 'r', encoding='utf-8') as txt_in:\n",
    "            lines = txt_in.readlines()\n",
    "            if len(lines) > 1:\n",
    "                # 2줄 이상인 파일은 곧바로 무시합니다.\n",
    "                continue\n",
    "\n",
    "            words = lines[0].strip().split(' ')\n",
    "            label = Label(\n",
    "                int(words[0]),\n",
    "                float(words[1]),\n",
    "                float(words[2]),\n",
    "                float(words[3]),\n",
    "                float(words[4]),\n",
    "            )"
   ]
  }
 ],
 "metadata": {
  "kernelspec": {
   "display_name": "cyberdyne",
   "language": "python",
   "name": "cyberdyne"
  },
  "language_info": {
   "codemirror_mode": {
    "name": "ipython",
    "version": 3
   },
   "file_extension": ".py",
   "mimetype": "text/x-python",
   "name": "python",
   "nbconvert_exporter": "python",
   "pygments_lexer": "ipython3",
   "version": "3.8.10"
  },
  "orig_nbformat": 4
 },
 "nbformat": 4,
 "nbformat_minor": 2
}
