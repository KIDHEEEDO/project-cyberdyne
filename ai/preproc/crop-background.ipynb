{
 "cells": [
  {
   "cell_type": "markdown",
   "metadata": {},
   "source": [
    "# 배경 이미지 생성\n",
    "\n",
    "여기서는 모델 학습에 사용할 배경 이미지를 생성합니다.\n",
    "\n",
    "아스팔트나 콘크리트 바닥같은 아무 사진이나 구해오면 되지만 그건 귀찮고,\n",
    "\n",
    "더 편한 방법이 있으므로 그냥 대충 만듭니다.\n",
    "\n",
    "목표는 400장인데 약간 더 많이 만들고 눈으로 골라내겠습니다.\n"
   ]
  },
  {
   "cell_type": "markdown",
   "metadata": {},
   "source": [
    "## 방법\n",
    "\n",
    "1. 바운딩 박스가 2개 이상이면 그냥 버립니다.\n",
    "2. 바운딩 박스의 왼/오른쪽은 너비, 위/아래쪽은 높이가 됩니다.\n",
    "3. 일단은 둘 모두 320 이상이 될 수 있는 이미지가 충분히 있는지를 보려고 합니다.\n",
    "4. 그게 장수가 충분히 많다면 거기서 고르고, 너무 적으면 기준을 좀 낮춥니다.\n",
    "5. json에서 읽어도 되지만 yolov5 라벨도 만들었으므로 그걸로 하는 게 좋을 것 같습니다.\n",
    "\n"
   ]
  },
  {
   "cell_type": "markdown",
   "metadata": {},
   "source": [
    "근데 생각해보니 기왕 이렇게 할거면 train에서 배경을 뽑아오는 것 보다 학습 동안 어차피\n",
    "안 쓸 validation 셋에서 뽑아보는 것도 좋을 것 같습니다.\n",
    "\n",
    "숫자만 맞으면 됩니다.\n"
   ]
  },
  {
   "cell_type": "code",
   "execution_count": 11,
   "metadata": {},
   "outputs": [],
   "source": [
    "import os\n",
    "import random\n",
    "\n",
    "# from collections import namedtuple\n",
    "from pathlib import Path\n",
    "from pprint import pprint\n",
    "from typing import (\n",
    "    Any, NamedTuple, NewType, Optional, Sequence, Tuple, Union\n",
    ")\n",
    "\n",
    "from PIL import Image\n",
    "\n",
    "\n",
    "random.seed()\n",
    "\n"
   ]
  },
  {
   "cell_type": "code",
   "execution_count": 17,
   "metadata": {},
   "outputs": [],
   "source": [
    "Rect = NewType('Rect', Tuple[Tuple[int, int], Tuple[int, int]])\n",
    "\n",
    "class Label(object):\n",
    "    '''yolov5 라벨 한 줄(=바운딩 박스 1개)을 읽어 해석합니다.'''\n",
    "    classid: int\n",
    "    centerx: int\n",
    "    centery: int\n",
    "    width: int\n",
    "    height: int\n",
    "    dim: int\n",
    "\n",
    "    def __init__(self, text: str, dim: int = 640) -> None:\n",
    "        self.dim = int(dim)\n",
    "\n",
    "        cid, cx, cy, w, h = map(float, text.strip().split(' '))\n",
    "        self.classid = cid\n",
    "        self.centerx = round(cx * self.dim)\n",
    "        self.centery = round(cy * self.dim)\n",
    "        self.width = round(w * self.dim)\n",
    "        self.height = round(h * self.dim)\n",
    "\n",
    "    def biggest_rect(self, threshold: float) -> Optional[Rect]:\n",
    "        '''바운딩 박스를 제외한 가장 큰 크랍 렉트를 반환합니다.\n",
    "        \n",
    "        가장 큰 렉트가 ``threshold``보다 작으면 ``None``을 반환합니다.\n",
    "        ``threshold``는 픽셀 값이 아닌 비율입니다.\n",
    "        '''\n",
    "        threshold *= self.dim\n",
    "        edges = [\n",
    "            self.centerx - self.width//2,\n",
    "            self.dim - self.centerx - self.width//2,\n",
    "            self.centery - self.height//2,\n",
    "            self.dim - self.centery - self.height//2,\n",
    "        ]\n",
    "        limiting_edge = max(edges)\n",
    "        if limiting_edge < threshold:\n",
    "            return None\n",
    "\n",
    "        edge_index = edges.index(limiting_edge)\n",
    "        rect: Rect\n",
    "        if edge_index == 0:\n",
    "            # left vertical\n",
    "            rect = ((0, 0), (limiting_edge, limiting_edge))\n",
    "        elif edge_index == 1:\n",
    "            # right vertical\n",
    "            rect = (\n",
    "                (self.dim - 1, 0),\n",
    "                (self.dim - 1 - limiting_edge, limiting_edge)\n",
    "            )\n",
    "        elif edge_index == 2:\n",
    "            # upper horizontal\n",
    "            rect = ((0, 0), (limiting_edge, limiting_edge))\n",
    "        else:\n",
    "            # lower horizontal\n",
    "            rect = (\n",
    "                (0, self.dim - 1),\n",
    "                (limiting_edge, self.dim - 1 - limiting_edge)\n",
    "            )\n",
    "\n",
    "        return rect\n"
   ]
  },
  {
   "cell_type": "code",
   "execution_count": 19,
   "metadata": {},
   "outputs": [],
   "source": [
    "def nominate(top: Path, min_dim: float = 0.5) -> Sequence[Tuple[Path, Rect]]:\n",
    "    # cache = set()\n",
    "    top = Path(top)\n",
    "    nominees = []\n",
    "    for pathname in top.rglob('*.txt'):\n",
    "        with open(pathname, 'r', encoding='utf-8') as txt_in:\n",
    "            lines = txt_in.readlines()\n",
    "            if len(lines) > 1:\n",
    "                # 2줄 이상인 파일은 곧바로 무시합니다.\n",
    "                continue\n",
    "\n",
    "            label = Label(lines[0])\n",
    "            rect = label.biggest_rect(threshold=min_dim)\n",
    "            if rect is not None:\n",
    "                nominees.append(\n",
    "                    (pathname.relative_to(top).with_suffix('.jpg'), rect)\n",
    "                )\n",
    "\n",
    "    return nominees\n"
   ]
  },
  {
   "cell_type": "code",
   "execution_count": 20,
   "metadata": {},
   "outputs": [
    {
     "data": {
      "text/plain": [
       "6354"
      ]
     },
     "execution_count": 20,
     "metadata": {},
     "output_type": "execute_result"
    }
   ],
   "source": [
    "nominees = nominate('./dataset/validation-labels/')\n",
    "len(nominees)"
   ]
  },
  {
   "cell_type": "markdown",
   "metadata": {},
   "source": [
    "validation만 쳐도 6354개가 살아남은 것 같습니다.\n"
   ]
  },
  {
   "cell_type": "code",
   "execution_count": 26,
   "metadata": {},
   "outputs": [
    {
     "name": "stdout",
     "output_type": "stream",
     "text": [
      "[(PosixPath('페트병/페트병/23_X190_C509_0401/23_X190_C509_0401_2.jpg'),\n",
      "  ((0, 639), (396, 243))),\n",
      " (PosixPath('캔류/음료수캔/22_X010_C090_0321/22_X010_C090_0321_4.jpg'),\n",
      "  ((639, 0), (310, 329))),\n",
      " (PosixPath('도기류/그릇류/14_X078_C976_0326/14_X078_C976_0326_0.jpg'),\n",
      "  ((0, 0), (381, 381))),\n",
      " (PosixPath('비닐/과자봉지/15_X384_C888_0330/15_X384_C888_0330_0.jpg'),\n",
      "  ((0, 639), (412, 227))),\n",
      " (PosixPath('비닐/포장제/15_X908_C887_0330/15_X908_C887_0330_4.jpg'),\n",
      "  ((639, 0), (311, 328)))]\n"
     ]
    }
   ],
   "source": [
    "pprint(random.sample(nominees, 5))"
   ]
  },
  {
   "cell_type": "markdown",
   "metadata": {},
   "source": [
    "좀 아닌 것 같은 배경 이미지는 눈으로 보고 지워도 400개는 남기기 위해 800개를 뽑겠습니다.\n"
   ]
  },
  {
   "cell_type": "code",
   "execution_count": 27,
   "metadata": {},
   "outputs": [],
   "source": [
    "chosen = random.sample(nominees, 800)"
   ]
  },
  {
   "cell_type": "markdown",
   "metadata": {},
   "source": [
    "골라낸 이미지를 크랍해서 저장합니다.\n",
    "\n",
    "ssh 환경에서 이걸 확인하기는 좀 불편하므로 로컬로 옮겨서 작업합니다.\n"
   ]
  },
  {
   "cell_type": "code",
   "execution_count": 29,
   "metadata": {},
   "outputs": [],
   "source": [
    "def write_images(\n",
    "    targets: Sequence[Tuple[Path, Rect]], src: Path, dst: Path\n",
    ") -> Sequence[Path]:\n",
    "    fail = []\n",
    "    src = Path(src)\n",
    "    dst = Path(dst)\n",
    "    for path, rect in targets:\n",
    "        src_ = src / path\n",
    "        try:\n",
    "            with Image.open(src_) as image_in:\n",
    "                image_out = image_in.crop(tuple(*rect[0], *rect[1]))\n",
    "                dst_ = dst / path.name\n",
    "                image_out.save(dst_)\n",
    "        except Exception as why:\n",
    "            print(why)\n",
    "            fail.append(path)\n",
    "\n",
    "    return fail\n"
   ]
  }
 ],
 "metadata": {
  "kernelspec": {
   "display_name": "cyberdyne",
   "language": "python",
   "name": "cyberdyne"
  },
  "language_info": {
   "codemirror_mode": {
    "name": "ipython",
    "version": 3
   },
   "file_extension": ".py",
   "mimetype": "text/x-python",
   "name": "python",
   "nbconvert_exporter": "python",
   "pygments_lexer": "ipython3",
   "version": "3.8.10"
  },
  "orig_nbformat": 4
 },
 "nbformat": 4,
 "nbformat_minor": 2
}
