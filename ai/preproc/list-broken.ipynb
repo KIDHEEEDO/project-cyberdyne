{
 "cells": [
  {
   "cell_type": "markdown",
   "metadata": {},
   "source": [
    "# 고장난 이미지 찾기\n",
    "\n",
    "고장난 이미지를 찾기 위해 한번씩 흝어봅니다.\n"
   ]
  },
  {
   "cell_type": "code",
   "execution_count": 38,
   "metadata": {},
   "outputs": [],
   "source": [
    "from os import path\n",
    "import os\n",
    "from pprint import pprint\n",
    "from typing import (\n",
    "    Any, Dict, List, Tuple, NamedTuple, Optional, NewType\n",
    ")\n",
    "import typing\n",
    "\n",
    "from concurrent import futures\n",
    "\n",
    "from PIL import Image\n",
    "from tqdm import tqdm\n"
   ]
  },
  {
   "cell_type": "code",
   "execution_count": 18,
   "metadata": {},
   "outputs": [],
   "source": [
    "# typedef\n",
    "PathStr = NewType('PathStr', str)\n",
    "Inspection = NamedTuple(\n",
    "    'Inspection', [('path', PathStr), ('why', 'Exception')]\n",
    ")\n"
   ]
  },
  {
   "cell_type": "code",
   "execution_count": 42,
   "metadata": {},
   "outputs": [],
   "source": [
    "def get_broken(\n",
    "    top: PathStr, executor: Optional[futures.Executor] = None\n",
    ") -> List[Inspection]:\n",
    "    shutdown = False\n",
    "    if executor is None:\n",
    "        executor = futures.ThreadPoolExecutor()\n",
    "        shutdown = True\n",
    "\n",
    "    tasks = []\n",
    "    for stem, branches, leaves in os.walk(top):\n",
    "        for leaf in leaves:\n",
    "            pathname = path.join(stem, leaf)\n",
    "            # rel = path.relpath(pathname, top)\n",
    "            tasks.append(executor.submit(image_broken, pathname))\n",
    "\n",
    "    broken = []\n",
    "    # results = futures.wait(tasks)\n",
    "    with tqdm(total=len(tasks), desc='Testing images') as pbar:\n",
    "        for result in futures.as_completed(tasks):\n",
    "            faulty = result.result()\n",
    "            if faulty:\n",
    "                pathname, why = faulty\n",
    "                broken.append(Inspection(path.relpath(pathname, top), why))\n",
    "            pbar.update(1)\n",
    "\n",
    "    if shutdown:\n",
    "        executor.shutdown()\n",
    "\n",
    "    return broken\n"
   ]
  },
  {
   "cell_type": "code",
   "execution_count": 40,
   "metadata": {},
   "outputs": [],
   "source": [
    "def image_broken(pathname: PathStr) -> Optional[Tuple[PathStr, Exception]]:\n",
    "    try:\n",
    "        with Image.open(pathname) as image:\n",
    "            image.verify()\n",
    "    except Exception as why:\n",
    "        return (pathname, why)\n",
    "    else:\n",
    "        return None\n"
   ]
  },
  {
   "cell_type": "code",
   "execution_count": 43,
   "metadata": {},
   "outputs": [
    {
     "name": "stderr",
     "output_type": "stream",
     "text": [
      "Testing images: 100%|██████████████████████████████████████████| 609926/609926 [22:57<00:00, 442.90it/s]\n",
      "Testing images: 100%|█████████████████████████████████████████| 76377/76377 [00:00<00:00, 166455.63it/s]"
     ]
    },
    {
     "name": "stdout",
     "output_type": "stream",
     "text": [
      "1186\n",
      "0\n"
     ]
    },
    {
     "name": "stderr",
     "output_type": "stream",
     "text": [
      "\n"
     ]
    }
   ],
   "source": [
    "# executor = futures.ThreadPoolExecutor()\n",
    "\n",
    "train_broken = get_broken('./dataset/training')\n",
    "val_broken = get_broken('./dataset/validation')\n",
    "\n",
    "print(len(train_broken))\n",
    "print(len(val_broken))"
   ]
  },
  {
   "cell_type": "markdown",
   "metadata": {},
   "source": [
    "## 판별된 결과를 저장합니다.\n",
    "\n",
    "저장 포맷은 텍스트로 하는 편이 범용성이 좋을 것 같습니다.\n",
    "\n",
    "유니코드가 살짝 걱정되지만 지금 걱정할 일은 아닌 것 같습니다.\n"
   ]
  },
  {
   "cell_type": "code",
   "execution_count": 46,
   "metadata": {},
   "outputs": [],
   "source": [
    "with open('./preproc/broken_images.txt', 'w', encoding='utf-8') as txt_out:\n",
    "    for inspection in train_broken:\n",
    "        txt_out.write(inspection.path)\n",
    "        txt_out.write('\\n')\n",
    "\n"
   ]
  }
 ],
 "metadata": {
  "kernelspec": {
   "display_name": "cyberdyne",
   "language": "python",
   "name": "cyberdyne"
  },
  "language_info": {
   "codemirror_mode": {
    "name": "ipython",
    "version": 3
   },
   "file_extension": ".py",
   "mimetype": "text/x-python",
   "name": "python",
   "nbconvert_exporter": "python",
   "pygments_lexer": "ipython3",
   "version": "3.8.10"
  },
  "orig_nbformat": 4
 },
 "nbformat": 4,
 "nbformat_minor": 2
}
