{
 "cells": [
  {
   "cell_type": "markdown",
   "metadata": {},
   "source": [
    "# 고장난 이미지 찾기\n",
    "\n",
    "고장난 이미지를 찾기 위해 한번씩 흝어봅니다.\n"
   ]
  },
  {
   "cell_type": "code",
   "execution_count": 4,
   "metadata": {},
   "outputs": [],
   "source": [
    "from os import path\n",
    "import os\n",
    "from pprint import pprint\n",
    "from typing import Any, Dict, List, Callable, Iterable, Mapping, NewType\n",
    "\n",
    "from PIL import Image\n"
   ]
  },
  {
   "cell_type": "code",
   "execution_count": 6,
   "metadata": {},
   "outputs": [],
   "source": [
    "# typedef\n",
    "PathStr = NewType('PathStr', str)"
   ]
  },
  {
   "cell_type": "code",
   "execution_count": 7,
   "metadata": {},
   "outputs": [],
   "source": [
    "def get_broken(top: str) -> Dict[str, List[PathStr]]:\n",
    "    broken = []\n",
    "    unknown = []\n",
    "    for stem, branches, leaves in os.walk(top):\n",
    "        for leaf in leaves:\n",
    "            pathname = path.join(stem, leaves)\n",
    "\n",
    "            rel = path.relpath(pathname, top)\n",
    "            # 이미지를 열어 확인합니다.\n",
    "            try:\n",
    "                with Image.open(pathname) as image:\n",
    "                    image.verify()\n",
    "            except OSError as why:\n",
    "                print(f'Can\\'t decide for \"{rel}\", skip ({why})')\n",
    "                unknown.append(rel)\n",
    "            except Exception as why:\n",
    "                print(f'Broken image \"{rel}\" ({why})')\n",
    "                broken.append(rel)\n",
    "\n",
    "    return {'broken': broken, 'unknown': unknown}\n"
   ]
  }
 ],
 "metadata": {
  "kernelspec": {
   "display_name": "cyberdyne",
   "language": "python",
   "name": "cyberdyne"
  },
  "language_info": {
   "codemirror_mode": {
    "name": "ipython",
    "version": 3
   },
   "file_extension": ".py",
   "mimetype": "text/x-python",
   "name": "python",
   "nbconvert_exporter": "python",
   "pygments_lexer": "ipython3",
   "version": "3.8.10"
  },
  "orig_nbformat": 4
 },
 "nbformat": 4,
 "nbformat_minor": 2
}
