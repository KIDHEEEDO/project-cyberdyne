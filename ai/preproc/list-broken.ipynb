{
 "cells": [
  {
   "cell_type": "markdown",
   "metadata": {},
   "source": [
    "# 고장난 이미지 찾기\n",
    "\n",
    "고장난 이미지를 찾기 위해 한번씩 흝어봅니다.\n"
   ]
  },
  {
   "cell_type": "code",
   "execution_count": 25,
   "metadata": {},
   "outputs": [],
   "source": [
    "from os import path\n",
    "import os\n",
    "from pprint import pprint\n",
    "from typing import (\n",
    "    Any, Dict, List, Tuple, NamedTuple, Optional, NewType\n",
    ")\n",
    "import typing\n",
    "\n",
    "from concurrent import futures\n",
    "\n",
    "from PIL import Image\n"
   ]
  },
  {
   "cell_type": "code",
   "execution_count": 18,
   "metadata": {},
   "outputs": [],
   "source": [
    "# typedef\n",
    "PathStr = NewType('PathStr', str)\n",
    "Inspection = NamedTuple(\n",
    "    'Inspection', [('path', PathStr), ('why', 'Exception')]\n",
    ")\n"
   ]
  },
  {
   "cell_type": "code",
   "execution_count": 32,
   "metadata": {},
   "outputs": [],
   "source": [
    "def get_broken(\n",
    "    top: PathStr, executor: Optional[futures.Executor] = None\n",
    ") -> List[Inspection]:\n",
    "    shutdown = False\n",
    "    if executor is None:\n",
    "        executor = futures.ThreadPoolExecutor()\n",
    "        shutdown = True\n",
    "\n",
    "    tasks = []\n",
    "    for stem, branches, leaves in os.walk(top):\n",
    "        for leaf in leaves:\n",
    "            pathname = path.join(stem, leaf)\n",
    "            # rel = path.relpath(pathname, top)\n",
    "            tasks.append(executor.submit(verify_image, pathname))\n",
    "\n",
    "    broken = []\n",
    "    results = futures.wait(tasks)\n",
    "    for faulty in results:\n",
    "        if faulty:\n",
    "            pathname, why = faulty\n",
    "            broken.append(Inspection(path.relpath(pathname, top), why))\n",
    "\n",
    "    if shutdown:\n",
    "        executor.shutdown()\n",
    "\n",
    "    return broken\n"
   ]
  },
  {
   "cell_type": "code",
   "execution_count": 29,
   "metadata": {},
   "outputs": [],
   "source": [
    "def image_broken(pathname: PathStr) -> Optional[Tuple[PathStr, Exception]]:\n",
    "    try:\n",
    "        with Image.open(pathname) as image:\n",
    "            image.verify()\n",
    "    except Exception as why:\n",
    "        return (pathname, why)\n",
    "    else:\n",
    "        return None\n"
   ]
  },
  {
   "cell_type": "code",
   "execution_count": null,
   "metadata": {},
   "outputs": [],
   "source": [
    "# executor = futures.ThreadPoolExecutor()\n",
    "\n",
    "train_broken = get_broken('./dataset/training')\n",
    "val_broken = get_broken('./dataset/validation')\n",
    "\n",
    "print(len(train_broken))\n",
    "print(len(val_broken))"
   ]
  }
 ],
 "metadata": {
  "kernelspec": {
   "display_name": "cyberdyne",
   "language": "python",
   "name": "cyberdyne"
  },
  "language_info": {
   "codemirror_mode": {
    "name": "ipython",
    "version": 3
   },
   "file_extension": ".py",
   "mimetype": "text/x-python",
   "name": "python",
   "nbconvert_exporter": "python",
   "pygments_lexer": "ipython3",
   "version": "3.8.10"
  },
  "orig_nbformat": 4
 },
 "nbformat": 4,
 "nbformat_minor": 2
}
