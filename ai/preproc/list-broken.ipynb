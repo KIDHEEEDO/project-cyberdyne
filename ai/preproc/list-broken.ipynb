{
 "cells": [
  {
   "cell_type": "markdown",
   "metadata": {},
   "source": [
    "# 고장난 이미지 찾기\n",
    "\n",
    "고장난 이미지를 찾기 위해 한번씩 흝어봅니다.\n"
   ]
  },
  {
   "cell_type": "code",
   "execution_count": 25,
   "metadata": {},
   "outputs": [],
   "source": [
    "from os import path\n",
    "import os\n",
    "from pprint import pprint\n",
    "from typing import (\n",
    "    Any, Dict, List, Tuple, NamedTuple, Optional, NewType\n",
    ")\n",
    "import typing\n",
    "\n",
    "from concurrent import futures\n",
    "\n",
    "from PIL import Image\n",
    "from tqdm import tqdm\n"
   ]
  },
  {
   "cell_type": "code",
   "execution_count": 18,
   "metadata": {},
   "outputs": [],
   "source": [
    "# typedef\n",
    "PathStr = NewType('PathStr', str)\n",
    "Inspection = NamedTuple(\n",
    "    'Inspection', [('path', PathStr), ('why', 'Exception')]\n",
    ")\n"
   ]
  },
  {
   "cell_type": "code",
   "execution_count": 36,
   "metadata": {},
   "outputs": [],
   "source": [
    "def get_broken(\n",
    "    top: PathStr, executor: Optional[futures.Executor] = None\n",
    ") -> List[Inspection]:\n",
    "    shutdown = False\n",
    "    if executor is None:\n",
    "        executor = futures.ThreadPoolExecutor()\n",
    "        shutdown = True\n",
    "\n",
    "    tasks = []\n",
    "    for stem, branches, leaves in os.walk(top):\n",
    "        for leaf in leaves:\n",
    "            pathname = path.join(stem, leaf)\n",
    "            # rel = path.relpath(pathname, top)\n",
    "            tasks.append(executor.submit(image_broken, pathname))\n",
    "\n",
    "    broken = []\n",
    "    # results = futures.wait(tasks)\n",
    "    with tqdm(total=len(tasks), desc='Testing images') as pbar:\n",
    "        for faulty in futures.as_completed(tasks):\n",
    "            if faulty:\n",
    "                pathname, why = faulty\n",
    "                broken.append(Inspection(path.relpath(pathname, top), why))\n",
    "            pbar.update(1)\n",
    "\n",
    "    if shutdown:\n",
    "        executor.shutdown()\n",
    "\n",
    "    return broken\n"
   ]
  },
  {
   "cell_type": "code",
   "execution_count": 29,
   "metadata": {},
   "outputs": [],
   "source": [
    "def image_broken(pathname: PathStr) -> Optional[Tuple[PathStr, Exception]]:\n",
    "    try:\n",
    "        with Image.open(pathname) as image:\n",
    "            image.verify()\n",
    "    except Exception as why:\n",
    "        return (pathname, why)\n",
    "    else:\n",
    "        return None\n"
   ]
  },
  {
   "cell_type": "code",
   "execution_count": 35,
   "metadata": {},
   "outputs": [
    {
     "ename": "ValueError",
     "evalue": "too many values to unpack (expected 2)",
     "output_type": "error",
     "traceback": [
      "\u001b[0;31m---------------------------------------------------------------------------\u001b[0m",
      "\u001b[0;31mValueError\u001b[0m                                Traceback (most recent call last)",
      "\u001b[1;32md:\\movomo\\Documents\\project-cyberdyne\\ai\\preproc\\list-broken.ipynb Cell 6'\u001b[0m in \u001b[0;36m<cell line: 3>\u001b[0;34m()\u001b[0m\n\u001b[1;32m      <a href='vscode-notebook-cell:/d%3A/movomo/Documents/project-cyberdyne/ai/preproc/list-broken.ipynb#ch0000006?line=0'>1</a>\u001b[0m \u001b[39m# executor = futures.ThreadPoolExecutor()\u001b[39;00m\n\u001b[0;32m----> <a href='vscode-notebook-cell:/d%3A/movomo/Documents/project-cyberdyne/ai/preproc/list-broken.ipynb#ch0000006?line=2'>3</a>\u001b[0m train_broken \u001b[39m=\u001b[39m get_broken(\u001b[39m'\u001b[39;49m\u001b[39m./dataset/training\u001b[39;49m\u001b[39m'\u001b[39;49m)\n\u001b[1;32m      <a href='vscode-notebook-cell:/d%3A/movomo/Documents/project-cyberdyne/ai/preproc/list-broken.ipynb#ch0000006?line=3'>4</a>\u001b[0m val_broken \u001b[39m=\u001b[39m get_broken(\u001b[39m'\u001b[39m\u001b[39m./dataset/validation\u001b[39m\u001b[39m'\u001b[39m)\n\u001b[1;32m      <a href='vscode-notebook-cell:/d%3A/movomo/Documents/project-cyberdyne/ai/preproc/list-broken.ipynb#ch0000006?line=5'>6</a>\u001b[0m \u001b[39mprint\u001b[39m(\u001b[39mlen\u001b[39m(train_broken))\n",
      "\u001b[1;32md:\\movomo\\Documents\\project-cyberdyne\\ai\\preproc\\list-broken.ipynb Cell 4'\u001b[0m in \u001b[0;36mget_broken\u001b[0;34m(top, executor)\u001b[0m\n\u001b[1;32m     <a href='vscode-notebook-cell:/d%3A/movomo/Documents/project-cyberdyne/ai/preproc/list-broken.ipynb#ch0000002?line=17'>18</a>\u001b[0m \u001b[39mfor\u001b[39;00m faulty \u001b[39min\u001b[39;00m results:\n\u001b[1;32m     <a href='vscode-notebook-cell:/d%3A/movomo/Documents/project-cyberdyne/ai/preproc/list-broken.ipynb#ch0000002?line=18'>19</a>\u001b[0m     \u001b[39mif\u001b[39;00m faulty:\n\u001b[0;32m---> <a href='vscode-notebook-cell:/d%3A/movomo/Documents/project-cyberdyne/ai/preproc/list-broken.ipynb#ch0000002?line=19'>20</a>\u001b[0m         pathname, why \u001b[39m=\u001b[39m faulty\n\u001b[1;32m     <a href='vscode-notebook-cell:/d%3A/movomo/Documents/project-cyberdyne/ai/preproc/list-broken.ipynb#ch0000002?line=20'>21</a>\u001b[0m         broken\u001b[39m.\u001b[39mappend(Inspection(path\u001b[39m.\u001b[39mrelpath(pathname, top), why))\n\u001b[1;32m     <a href='vscode-notebook-cell:/d%3A/movomo/Documents/project-cyberdyne/ai/preproc/list-broken.ipynb#ch0000002?line=22'>23</a>\u001b[0m \u001b[39mif\u001b[39;00m shutdown:\n",
      "\u001b[0;31mValueError\u001b[0m: too many values to unpack (expected 2)"
     ]
    }
   ],
   "source": [
    "# executor = futures.ThreadPoolExecutor()\n",
    "\n",
    "train_broken = get_broken('./dataset/training')\n",
    "val_broken = get_broken('./dataset/validation')\n",
    "\n",
    "print(len(train_broken))\n",
    "print(len(val_broken))"
   ]
  }
 ],
 "metadata": {
  "kernelspec": {
   "display_name": "cyberdyne",
   "language": "python",
   "name": "cyberdyne"
  },
  "language_info": {
   "codemirror_mode": {
    "name": "ipython",
    "version": 3
   },
   "file_extension": ".py",
   "mimetype": "text/x-python",
   "name": "python",
   "nbconvert_exporter": "python",
   "pygments_lexer": "ipython3",
   "version": "3.8.10"
  },
  "orig_nbformat": 4
 },
 "nbformat": 4,
 "nbformat_minor": 2
}
