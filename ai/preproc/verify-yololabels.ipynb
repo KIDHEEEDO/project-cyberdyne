{
 "cells": [
  {
   "cell_type": "markdown",
   "metadata": {},
   "source": [
    "# YOLOv5 라벨 검증\n",
    "\n",
    "혹시 좌표가 틀리지 않았는지 확인합니다.\n"
   ]
  },
  {
   "cell_type": "code",
   "execution_count": 1,
   "metadata": {},
   "outputs": [],
   "source": [
    "from pathlib import Path\n",
    "from pprint import pprint\n",
    "from typing import (\n",
    "    Optional,\n",
    "    Sequence,\n",
    "    Tuple,\n",
    "    Union,\n",
    ")\n",
    "\n",
    "import matplotlib.pyplot as plt\n",
    "from PIL import Image, ImageDraw\n",
    "\n",
    "# from preproc import odlabel\n",
    "from preproc.odlabel import Box, Label\n",
    "\n",
    "%matplotlib inline\n"
   ]
  },
  {
   "cell_type": "code",
   "execution_count": 2,
   "metadata": {},
   "outputs": [],
   "source": [
    "def parse_line(text: str) -> Tuple[int, float, float, float, float]:\n",
    "    words = text.rstrip().split(' ')\n",
    "    return (int(words[0]), *map(float, words[1:]))"
   ]
  },
  {
   "cell_type": "code",
   "execution_count": null,
   "metadata": {},
   "outputs": [],
   "source": [
    "def list_labels(src: Path) -> Sequence[Label]:\n",
    "    labels = []\n",
    "    for path in src.rglob('*.txt'):\n",
    "        with path.open(encoding='utf-8') as txt_in:\n",
    "            label = Label(\n",
    "                path.relative_to(src),\n",
    "                *(Box.from_centerbox(*))\n",
    "            )"
   ]
  }
 ],
 "metadata": {
  "kernelspec": {
   "display_name": "cyberdyne",
   "language": "python",
   "name": "cyberdyne"
  },
  "language_info": {
   "codemirror_mode": {
    "name": "ipython",
    "version": 3
   },
   "file_extension": ".py",
   "mimetype": "text/x-python",
   "name": "python",
   "nbconvert_exporter": "python",
   "pygments_lexer": "ipython3",
   "version": "3.8.10"
  },
  "orig_nbformat": 4
 },
 "nbformat": 4,
 "nbformat_minor": 2
}
