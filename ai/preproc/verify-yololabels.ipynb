{
 "cells": [
  {
   "cell_type": "markdown",
   "metadata": {},
   "source": [
    "# YOLOv5 라벨 검증\n",
    "\n",
    "혹시 좌표가 틀리지 않았는지 확인합니다.\n"
   ]
  },
  {
   "cell_type": "code",
   "execution_count": 6,
   "metadata": {},
   "outputs": [],
   "source": [
    "import random\n",
    "from pathlib import Path\n",
    "from pprint import pprint\n",
    "from typing import (\n",
    "    Iterable,\n",
    "    Optional,\n",
    "    Sequence,\n",
    "    Tuple,\n",
    "    Union,\n",
    ")\n",
    "\n",
    "import matplotlib.pyplot as plt\n",
    "from PIL import Image, ImageDraw\n",
    "\n",
    "# from preproc import odlabel\n",
    "from preproc.odlabel import Box, Label\n",
    "\n",
    "random.seed()\n",
    "%matplotlib inline\n"
   ]
  },
  {
   "cell_type": "code",
   "execution_count": 2,
   "metadata": {},
   "outputs": [],
   "source": [
    "def parse_line(text: str) -> Tuple[int, float, float, float, float]:\n",
    "    words = text.rstrip().split(' ')\n",
    "    return (int(words[0]), *map(float, words[1:]))"
   ]
  },
  {
   "cell_type": "code",
   "execution_count": 3,
   "metadata": {},
   "outputs": [],
   "source": [
    "def list_labels(src: Path) -> Sequence[Label]:\n",
    "    labels = []\n",
    "    for path in src.rglob('*.txt'):\n",
    "        with path.open(encoding='utf-8') as txt_in:\n",
    "            label = Label(\n",
    "                path.relative_to(src),\n",
    "                (Box.from_centerbox(*parse_line(line)) for line in txt_in)\n",
    "            )\n",
    "            labels.append(label)\n",
    "\n",
    "    return labels"
   ]
  },
  {
   "cell_type": "code",
   "execution_count": 4,
   "metadata": {},
   "outputs": [
    {
     "data": {
      "text/plain": [
       "76377"
      ]
     },
     "execution_count": 4,
     "metadata": {},
     "output_type": "execute_result"
    }
   ],
   "source": [
    "val_labels = list_labels(Path('./dataset/validation-labels'))\n",
    "len(val_labels)\n"
   ]
  },
  {
   "cell_type": "code",
   "execution_count": 5,
   "metadata": {},
   "outputs": [
    {
     "name": "stdout",
     "output_type": "stream",
     "text": [
      "[Label(의류/외투/18_X002_C331_1202/18_X002_C331_1202_1.txt),\n",
      " Label(의류/외투/18_X002_C331_1202/18_X002_C331_1202_4.txt),\n",
      " Label(의류/외투/18_X002_C331_1202/18_X002_C331_1202_3.txt),\n",
      " Label(의류/외투/18_X002_C331_1202/18_X002_C331_1202_2.txt),\n",
      " Label(의류/외투/18_X002_C331_1202/18_X002_C331_1202_0.txt),\n",
      " Label(의류/외투/18_X321_C900_1209/18_X321_C900_1209_3.txt),\n",
      " Label(의류/외투/18_X321_C900_1209/18_X321_C900_1209_0.txt),\n",
      " Label(의류/외투/18_X321_C900_1209/18_X321_C900_1209_4.txt),\n",
      " Label(의류/외투/18_X321_C900_1209/18_X321_C900_1209_2.txt),\n",
      " Label(의류/외투/18_X321_C900_1209/18_X321_C900_1209_1.txt)]\n"
     ]
    }
   ],
   "source": [
    "pprint(val_labels[:10])\n"
   ]
  },
  {
   "cell_type": "markdown",
   "metadata": {},
   "source": [
    "## 이미지 무작위로 보여주기\n"
   ]
  },
  {
   "cell_type": "code",
   "execution_count": null,
   "metadata": {},
   "outputs": [],
   "source": [
    "def image_with_box(path: Path, boxes: Iterable[Box]) -> Image.Image:\n",
    "    image = Image.open(path)\n",
    "    drawer = ImageDraw.Draw(image)\n",
    "    colors = {0: (0, 255, 255), 1: (255, 0, 255), 2: (255, 255, 0)}\n",
    "    for i, box in enumerate(boxes):\n",
    "        if i in colors:\n",
    "            color = colors[i]\n",
    "        else:\n",
    "            color = tuple(random.randint(0, 255) for _ in range(3))\n",
    "        # print(box)\n",
    "        drawer.rectangle(box.rect.tuple(), outline=color, width=5)\n",
    "\n",
    "    # debug\n",
    "    # ImageShow.show(image)\n",
    "\n",
    "    return image"
   ]
  }
 ],
 "metadata": {
  "kernelspec": {
   "display_name": "cyberdyne",
   "language": "python",
   "name": "cyberdyne"
  },
  "language_info": {
   "codemirror_mode": {
    "name": "ipython",
    "version": 3
   },
   "file_extension": ".py",
   "mimetype": "text/x-python",
   "name": "python",
   "nbconvert_exporter": "python",
   "pygments_lexer": "ipython3",
   "version": "3.8.10"
  },
  "orig_nbformat": 4
 },
 "nbformat": 4,
 "nbformat_minor": 2
}
