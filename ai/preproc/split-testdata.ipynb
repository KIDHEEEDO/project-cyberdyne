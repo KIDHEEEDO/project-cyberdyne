{
 "cells": [
  {
   "cell_type": "markdown",
   "metadata": {},
   "source": [
    "# test 데이터셋 분리하기\n",
    "\n",
    "validation에서 val : test = 3 : 2 정도로 분리하려 합니다.\n",
    "\n",
    "라벨은 분리하지 않아도 됩니다.\n"
   ]
  },
  {
   "cell_type": "code",
   "execution_count": null,
   "metadata": {
    "vscode": {
     "languageId": "python"
    }
   },
   "outputs": [],
   "source": [
    "import os\n",
    "import random\n",
    "import re\n",
    "\n",
    "from pathlib import Path\n",
    "from pprint import pprint\n",
    "from typing import (\n",
    "    Optional, Sequence, Union\n",
    ")\n",
    "\n",
    "\n",
    "random.seed()\n"
   ]
  },
  {
   "cell_type": "code",
   "execution_count": null,
   "metadata": {
    "vscode": {
     "languageId": "python"
    }
   },
   "outputs": [],
   "source": [
    "def split_testdata(\n",
    "    source: Path, destination: Path, ratio: float, dryrun: bool = False\n",
    ") -> Sequence[Path]:\n",
    "    '''이동에 실패한 파일의 목록을 반환합니다.'''\n",
    "    p_imgdir = re.compile(r'^[0-9]{2}')\n",
    "\n",
    "    fail: Sequence[Path] = []\n",
    "    for stem, branches, leaves in os.walk(source):\n",
    "        if not branches:\n",
    "            continue\n",
    "        if not p_imgdir.search(branches[0]):\n",
    "            continue\n",
    "        # 옮길 폴더의 수를 정합니다.\n",
    "        k = round(ratio * len(branches))\n",
    "        tomove = random.sample(\n",
    "            [(stem / Path(branch)).resolve() for branch in branches], k=k\n",
    "        )\n",
    "\n",
    "        try:\n",
    "            for dirpath in tomove:\n",
    "                dst = destination / dirpath.relative_to(source)\n",
    "                if dryrun:\n",
    "                    print('from:', dirpath)\n",
    "                    print('to:', dst.parent)\n",
    "                    print('    ', dst, end='\\n\\n')\n",
    "                    continue\n",
    "                dst.parent.mkdir(parents=True, exist_ok=True)\n",
    "                dirpath.rename(dst)\n",
    "        except OSError as why:\n",
    "            print(f'FAIL: \"{str(dirpath)}\" ({why})')"
   ]
  },
  {
   "cell_type": "markdown",
   "metadata": {},
   "source": [
    "## dry run\n"
   ]
  },
  {
   "cell_type": "code",
   "execution_count": null,
   "metadata": {
    "vscode": {
     "languageId": "python"
    }
   },
   "outputs": [],
   "source": [
    "split_testdata(\n",
    "    Path('./dataset/validation'), Path('./dataset/test'), 0.4, dryrun=True\n",
    ")"
   ]
  },
  {
   "cell_type": "markdown",
   "metadata": {},
   "source": [
    "## wet run\n"
   ]
  },
  {
   "cell_type": "code",
   "execution_count": null,
   "metadata": {
    "vscode": {
     "languageId": "python"
    }
   },
   "outputs": [],
   "source": [
    "fail = split_testdata(\n",
    "    Path('./dataset/validation'), Path('./dataset/test'), 0.4\n",
    ")"
   ]
  }
 ],
 "metadata": {
  "kernelspec": {
   "display_name": "cyberdyne",
   "language": "python",
   "name": "cyberdyne"
  },
  "orig_nbformat": 4
 },
 "nbformat": 4,
 "nbformat_minor": 2
}
